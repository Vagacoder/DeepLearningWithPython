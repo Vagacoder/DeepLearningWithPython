{
  "nbformat": 4,
  "nbformat_minor": 0,
  "metadata": {
    "kernelspec": {
      "display_name": "Python 3",
      "language": "python",
      "name": "python3"
    },
    "language_info": {
      "codemirror_mode": {
        "name": "ipython",
        "version": 3
      },
      "file_extension": ".py",
      "mimetype": "text/x-python",
      "name": "python",
      "nbconvert_exporter": "python",
      "pygments_lexer": "ipython3",
      "version": "3.5.2"
    },
    "colab": {
      "name": "4.4-overfitting-and-underfitting.ipynb",
      "provenance": [],
      "collapsed_sections": [],
      "include_colab_link": true
    }
  },
  "cells": [
    {
      "cell_type": "markdown",
      "metadata": {
        "id": "view-in-github",
        "colab_type": "text"
      },
      "source": [
        "<a href=\"https://colab.research.google.com/github/Vagacoder/DeepLearningWithPython/blob/master/src/4_4_overfitting_and_underfitting.ipynb\" target=\"_parent\"><img src=\"https://colab.research.google.com/assets/colab-badge.svg\" alt=\"Open In Colab\"/></a>"
      ]
    },
    {
      "cell_type": "code",
      "metadata": {
        "id": "ScEcCu4mTaiB",
        "colab_type": "code",
        "colab": {
          "base_uri": "https://localhost:8080/",
          "height": 35
        },
        "outputId": "4d4ea540-45ea-4225-f25a-7594c1fb051b"
      },
      "source": [
        "import keras\n",
        "keras.__version__"
      ],
      "execution_count": 1,
      "outputs": [
        {
          "output_type": "execute_result",
          "data": {
            "application/vnd.google.colaboratory.intrinsic+json": {
              "type": "string"
            },
            "text/plain": [
              "'2.4.3'"
            ]
          },
          "metadata": {
            "tags": []
          },
          "execution_count": 1
        }
      ]
    },
    {
      "cell_type": "markdown",
      "metadata": {
        "id": "W6ovzwu9Taiv",
        "colab_type": "text"
      },
      "source": [
        "# Overfitting and underfitting\n",
        "\n",
        "This notebook contains the code samples found in Chapter 3, Section 6 of [Deep Learning with Python](https://www.manning.com/books/deep-learning-with-python?a_aid=keras&a_bid=76564dff). Note that the original text features far more content, in particular further explanations and figures: in this notebook, you will only find source code and related comments.\n",
        "\n",
        "----\n",
        "\n",
        "\n",
        "In all the examples we saw in the previous chapter -- movie review sentiment prediction, topic classification, and house price regression -- \n",
        "we could notice that the performance of our model on the held-out validation data would always peak after a few epochs and would then start \n",
        "degrading, i.e. our model would quickly start to _overfit_ to the training data. **Overfitting happens in every single machine learning \n",
        "problem**. Learning how to deal with overfitting is essential to mastering machine learning.\n",
        "\n",
        "The fundamental issue in machine learning is the tension between optimization and generalization. **\"Optimization\"** refers to the process of \n",
        "adjusting a model to get the best performance possible on the training data (the \"learning\" in \"machine learning\"), while **\"Generalization\"** \n",
        "refers to how well the trained model would perform on data it has never seen before. The goal of the game is to get good generalization, of \n",
        "course, but you do not control generalization; you can only adjust the model based on its training data.\n",
        "\n",
        "At the **beginning of training, optimization and generalization are correlated**: the lower your loss on training data, the lower your loss on \n",
        "test data. While this is happening, your model is said to be _under-fit_: there is still progress to be made; the network hasn't yet \n",
        "modeled all relevant patterns in the training data. But after a certain number of iterations on the training data, **generalization stops \n",
        "improving, validation metrics stall then start degrading**: the model is then starting to over-fit, i.e. is it starting to learn patterns \n",
        "that are specific to the training data but that are misleading or irrelevant when it comes to new data.\n",
        "\n",
        "To prevent a model from learning misleading or irrelevant patterns found in the training data, **_the best solution is of course to get \n",
        "more training data_**. A model trained on more data will naturally generalize better. When that is no longer possible, the next best solution \n",
        "is to modulate the quantity of information that your model is allowed to store, or to add constraints on what information it is allowed to \n",
        "store. If a network can only afford to memorize a small number of patterns, the optimization process will force it to focus on the most \n",
        "prominent patterns, which have a better chance of generalizing well.\n",
        "\n",
        "The processing of fighting overfitting in this way is called **_regularization_**. Let's review some of the most common regularization \n",
        "techniques, and let's apply them in practice to improve our movie classification model from  the previous chapter."
      ]
    },
    {
      "cell_type": "markdown",
      "metadata": {
        "id": "PYBNzaM2Taiy",
        "colab_type": "text"
      },
      "source": [
        "Note: in this notebook we will be using the IMDB test set as our validation set. It doesn't matter in this context.\n",
        "\n",
        "Let's prepare the data using the code from Chapter 3, Section 5:"
      ]
    },
    {
      "cell_type": "code",
      "metadata": {
        "id": "AvdM3VteTai-",
        "colab_type": "code",
        "colab": {
          "base_uri": "https://localhost:8080/",
          "height": 52
        },
        "outputId": "e1e68e15-a164-4db9-b5d1-5369fc979d0c"
      },
      "source": [
        "from keras.datasets import imdb\n",
        "import numpy as np\n",
        "\n",
        "(train_data, train_labels), (test_data, test_labels) = imdb.load_data(num_words=10000)\n",
        "\n",
        "def vectorize_sequences(sequences, dimension=10000):\n",
        "    # Create an all-zero matrix of shape (len(sequences), dimension)\n",
        "    results = np.zeros((len(sequences), dimension))\n",
        "    for i, sequence in enumerate(sequences):\n",
        "        results[i, sequence] = 1.  # set specific indices of results[i] to 1s\n",
        "    return results\n",
        "\n",
        "# Our vectorized training data\n",
        "x_train = vectorize_sequences(train_data)\n",
        "# Our vectorized test data\n",
        "x_test = vectorize_sequences(test_data)\n",
        "# Our vectorized labels\n",
        "y_train = np.asarray(train_labels).astype('float32')\n",
        "y_test = np.asarray(test_labels).astype('float32')"
      ],
      "execution_count": 2,
      "outputs": [
        {
          "output_type": "stream",
          "text": [
            "Downloading data from https://storage.googleapis.com/tensorflow/tf-keras-datasets/imdb.npz\n",
            "17465344/17464789 [==============================] - 1s 0us/step\n"
          ],
          "name": "stdout"
        }
      ]
    },
    {
      "cell_type": "code",
      "metadata": {
        "id": "LHg4yNsUiIt0",
        "colab_type": "code",
        "colab": {
          "base_uri": "https://localhost:8080/",
          "height": 121
        },
        "outputId": "f3d7f2ac-e281-4ea4-f9cf-6a77ed694011"
      },
      "source": [
        "x_train[0][:100]"
      ],
      "execution_count": 4,
      "outputs": [
        {
          "output_type": "execute_result",
          "data": {
            "text/plain": [
              "array([0., 1., 1., 0., 1., 1., 1., 1., 1., 1., 0., 0., 1., 1., 1., 1., 1.,\n",
              "       1., 1., 1., 0., 1., 1., 0., 0., 1., 1., 0., 1., 0., 1., 0., 1., 1.,\n",
              "       0., 1., 1., 0., 1., 1., 0., 0., 0., 1., 0., 0., 1., 0., 1., 0., 1.,\n",
              "       1., 1., 0., 0., 0., 1., 0., 0., 0., 0., 0., 1., 0., 0., 1., 1., 0.,\n",
              "       0., 0., 0., 1., 0., 0., 0., 0., 1., 1., 0., 0., 0., 0., 1., 0., 0.,\n",
              "       0., 0., 1., 1., 0., 0., 0., 1., 0., 0., 0., 0., 0., 1., 0.])"
            ]
          },
          "metadata": {
            "tags": []
          },
          "execution_count": 4
        }
      ]
    },
    {
      "cell_type": "code",
      "metadata": {
        "id": "FhNbzFpdiXnh",
        "colab_type": "code",
        "colab": {
          "base_uri": "https://localhost:8080/",
          "height": 139
        },
        "outputId": "a5d52c90-82f1-4397-bf93-08314dea349e"
      },
      "source": [
        "y_train[:100]"
      ],
      "execution_count": 6,
      "outputs": [
        {
          "output_type": "execute_result",
          "data": {
            "text/plain": [
              "array([1., 0., 0., 1., 0., 0., 1., 0., 1., 0., 1., 0., 0., 0., 0., 0., 1.,\n",
              "       1., 0., 1., 0., 0., 1., 0., 1., 1., 0., 0., 1., 0., 0., 1., 1., 1.,\n",
              "       0., 0., 0., 1., 0., 0., 1., 0., 0., 0., 1., 1., 1., 0., 1., 0., 0.,\n",
              "       0., 0., 0., 0., 0., 1., 0., 1., 1., 0., 0., 0., 1., 1., 1., 1., 1.,\n",
              "       1., 1., 1., 0., 0., 1., 1., 0., 1., 0., 0., 1., 1., 0., 0., 1., 1.,\n",
              "       0., 0., 0., 1., 0., 0., 0., 0., 0., 0., 0., 0., 1., 1., 0.],\n",
              "      dtype=float32)"
            ]
          },
          "metadata": {
            "tags": []
          },
          "execution_count": 6
        }
      ]
    },
    {
      "cell_type": "markdown",
      "metadata": {
        "id": "IfAql73lTajP",
        "colab_type": "text"
      },
      "source": [
        "# Fighting overfitting\n",
        "\n",
        "## Reducing the network's size\n",
        "\n",
        "\n",
        "**The simplest way to prevent overfitting is to reduce the size of the model**, i.e. the number of learnable parameters in the model (which is \n",
        "determined by the number of layers and the number of units per layer). In deep learning, the number of learnable parameters in a model is \n",
        "often referred to as the model's \"capacity\". Intuitively, a model with more parameters will have more \"memorization capacity\" and therefore \n",
        "will be able to easily learn a perfect dictionary-like mapping between training samples and their targets, a mapping without any \n",
        "generalization power. For instance, a model with 500,000 binary parameters could easily be made to learn the class of every digits in the \n",
        "MNIST training set: we would only need 10 binary parameters for each of the 50,000 digits. Such a model would be useless for classifying \n",
        "new digit samples. Always keep this in mind: deep learning models tend to be good at fitting to the training data, but **the real challenge \n",
        "is generalization, not fitting**.\n",
        "\n",
        "On the other hand, if the network has limited memorization resources, it will not be able to learn this mapping as easily, and thus, in \n",
        "order to minimize its loss, it will have to resort to learning compressed representations that have predictive power regarding the targets \n",
        "-- precisely the type of representations that we are interested in. At the same time, keep in mind that you should be using models that have \n",
        "enough parameters that they won't be underfitting: your model shouldn't be starved for memorization resources. **There is a compromise to be \n",
        "found between \"too much capacity\" and \"not enough capacity\"**.\n",
        "\n",
        "Unfortunately, **there is no magical formula to determine what the right number of layers is, or what the right size for each layer is**. You \n",
        "will have to evaluate an array of different architectures (on your validation set, not on your test set, of course) in order to find the \n",
        "right model size for your data. **The general workflow** to find an appropriate model size is to **start with relatively few layers and \n",
        "parameters, and start increasing the size of the layers or adding new layers until you see diminishing returns with regard to the \n",
        "validation loss**.\n",
        "\n",
        "Let's try this on our movie review classification network. Our original network was as such:"
      ]
    },
    {
      "cell_type": "code",
      "metadata": {
        "id": "dnFmwPylTajS",
        "colab_type": "code",
        "colab": {}
      },
      "source": [
        "from keras import models\n",
        "from keras import layers\n",
        "\n",
        "original_model = models.Sequential()\n",
        "original_model.add(layers.Dense(16, activation='relu', input_shape=(10000,)))\n",
        "original_model.add(layers.Dense(16, activation='relu'))\n",
        "original_model.add(layers.Dense(1, activation='sigmoid'))\n",
        "\n",
        "original_model.compile(optimizer='rmsprop',\n",
        "                       loss='binary_crossentropy',\n",
        "                       metrics=['acc'])"
      ],
      "execution_count": 7,
      "outputs": []
    },
    {
      "cell_type": "markdown",
      "metadata": {
        "id": "uLW9CyTgTaji",
        "colab_type": "text"
      },
      "source": [
        "Now let's try to replace it with this smaller network:"
      ]
    },
    {
      "cell_type": "code",
      "metadata": {
        "id": "nfy0c9MBTajk",
        "colab_type": "code",
        "colab": {}
      },
      "source": [
        "smaller_model = models.Sequential()\n",
        "smaller_model.add(layers.Dense(4, activation='relu', input_shape=(10000,)))\n",
        "smaller_model.add(layers.Dense(4, activation='relu'))\n",
        "smaller_model.add(layers.Dense(1, activation='sigmoid'))\n",
        "\n",
        "smaller_model.compile(optimizer='rmsprop',\n",
        "                      loss='binary_crossentropy',\n",
        "                      metrics=['acc'])"
      ],
      "execution_count": 8,
      "outputs": []
    },
    {
      "cell_type": "markdown",
      "metadata": {
        "id": "nbviPOQqTaj3",
        "colab_type": "text"
      },
      "source": [
        "\n",
        "Here's a comparison of the validation losses of the original network and the smaller network. The dots are the validation loss values of \n",
        "the smaller network, and the crosses are the initial network (remember: a lower validation loss signals a better model)."
      ]
    },
    {
      "cell_type": "code",
      "metadata": {
        "id": "gOfo-TIATaj6",
        "colab_type": "code",
        "colab": {
          "base_uri": "https://localhost:8080/",
          "height": 712
        },
        "outputId": "8a05b4fe-204f-457c-d8a1-e2f47bf0f45a"
      },
      "source": [
        "original_hist = original_model.fit(x_train, y_train,\n",
        "                                   epochs=20,\n",
        "                                   batch_size=512,\n",
        "                                   validation_data=(x_test, y_test))"
      ],
      "execution_count": 10,
      "outputs": [
        {
          "output_type": "stream",
          "text": [
            "Epoch 1/20\n",
            "49/49 [==============================] - 3s 55ms/step - loss: 0.0168 - acc: 0.9966 - val_loss: 0.7854 - val_acc: 0.8479\n",
            "Epoch 2/20\n",
            "49/49 [==============================] - 2s 38ms/step - loss: 0.0157 - acc: 0.9966 - val_loss: 0.8079 - val_acc: 0.8490\n",
            "Epoch 3/20\n",
            "49/49 [==============================] - 2s 47ms/step - loss: 0.0113 - acc: 0.9980 - val_loss: 0.9335 - val_acc: 0.8412\n",
            "Epoch 4/20\n",
            "49/49 [==============================] - 2s 45ms/step - loss: 0.0097 - acc: 0.9984 - val_loss: 0.8702 - val_acc: 0.8480\n",
            "Epoch 5/20\n",
            "49/49 [==============================] - 2s 37ms/step - loss: 0.0088 - acc: 0.9983 - val_loss: 0.9440 - val_acc: 0.8469\n",
            "Epoch 6/20\n",
            "49/49 [==============================] - 2s 37ms/step - loss: 0.0067 - acc: 0.9986 - val_loss: 0.9775 - val_acc: 0.8460\n",
            "Epoch 7/20\n",
            "49/49 [==============================] - 2s 37ms/step - loss: 0.0061 - acc: 0.9986 - val_loss: 1.0055 - val_acc: 0.8460\n",
            "Epoch 8/20\n",
            "49/49 [==============================] - 2s 36ms/step - loss: 0.0051 - acc: 0.9989 - val_loss: 1.0450 - val_acc: 0.8450\n",
            "Epoch 9/20\n",
            "49/49 [==============================] - 2s 36ms/step - loss: 0.0050 - acc: 0.9987 - val_loss: 1.0836 - val_acc: 0.8446\n",
            "Epoch 10/20\n",
            "49/49 [==============================] - 2s 36ms/step - loss: 0.0046 - acc: 0.9989 - val_loss: 1.1121 - val_acc: 0.8443\n",
            "Epoch 11/20\n",
            "49/49 [==============================] - 2s 36ms/step - loss: 0.0027 - acc: 0.9996 - val_loss: 1.4008 - val_acc: 0.8282\n",
            "Epoch 12/20\n",
            "49/49 [==============================] - 2s 36ms/step - loss: 0.0016 - acc: 0.9998 - val_loss: 1.1607 - val_acc: 0.8444\n",
            "Epoch 13/20\n",
            "49/49 [==============================] - 2s 36ms/step - loss: 0.0026 - acc: 0.9994 - val_loss: 1.2082 - val_acc: 0.8447\n",
            "Epoch 14/20\n",
            "49/49 [==============================] - 2s 37ms/step - loss: 0.0029 - acc: 0.9991 - val_loss: 1.2537 - val_acc: 0.8432\n",
            "Epoch 15/20\n",
            "49/49 [==============================] - 2s 36ms/step - loss: 5.6543e-04 - acc: 1.0000 - val_loss: 1.3138 - val_acc: 0.8412\n",
            "Epoch 16/20\n",
            "49/49 [==============================] - 2s 36ms/step - loss: 0.0021 - acc: 0.9993 - val_loss: 1.3258 - val_acc: 0.8440\n",
            "Epoch 17/20\n",
            "49/49 [==============================] - 2s 36ms/step - loss: 0.0018 - acc: 0.9995 - val_loss: 1.3551 - val_acc: 0.8386\n",
            "Epoch 18/20\n",
            "49/49 [==============================] - 2s 36ms/step - loss: 3.8837e-04 - acc: 1.0000 - val_loss: 1.4072 - val_acc: 0.8426\n",
            "Epoch 19/20\n",
            "49/49 [==============================] - 2s 36ms/step - loss: 0.0018 - acc: 0.9995 - val_loss: 1.4333 - val_acc: 0.8430\n",
            "Epoch 20/20\n",
            "49/49 [==============================] - 2s 36ms/step - loss: 1.8558e-04 - acc: 1.0000 - val_loss: 1.5075 - val_acc: 0.8405\n"
          ],
          "name": "stdout"
        }
      ]
    },
    {
      "cell_type": "code",
      "metadata": {
        "id": "3HD79LJ0TakP",
        "colab_type": "code",
        "colab": {
          "base_uri": "https://localhost:8080/",
          "height": 712
        },
        "outputId": "a89b4f2d-8286-4f0b-feb7-382dfb000c34"
      },
      "source": [
        "smaller_model_hist = smaller_model.fit(x_train, y_train,\n",
        "                                       epochs=20,\n",
        "                                       batch_size=512,\n",
        "                                       validation_data=(x_test, y_test))"
      ],
      "execution_count": 11,
      "outputs": [
        {
          "output_type": "stream",
          "text": [
            "Epoch 1/20\n",
            "49/49 [==============================] - 2s 41ms/step - loss: 0.6052 - acc: 0.7773 - val_loss: 0.5357 - val_acc: 0.8342\n",
            "Epoch 2/20\n",
            "49/49 [==============================] - 2s 32ms/step - loss: 0.4597 - acc: 0.8792 - val_loss: 0.4244 - val_acc: 0.8735\n",
            "Epoch 3/20\n",
            "49/49 [==============================] - 2s 33ms/step - loss: 0.3537 - acc: 0.9052 - val_loss: 0.3541 - val_acc: 0.8846\n",
            "Epoch 4/20\n",
            "49/49 [==============================] - 2s 32ms/step - loss: 0.2840 - acc: 0.9189 - val_loss: 0.3136 - val_acc: 0.8877\n",
            "Epoch 5/20\n",
            "49/49 [==============================] - 2s 33ms/step - loss: 0.2394 - acc: 0.9272 - val_loss: 0.2936 - val_acc: 0.8874\n",
            "Epoch 6/20\n",
            "49/49 [==============================] - 2s 33ms/step - loss: 0.2088 - acc: 0.9342 - val_loss: 0.2826 - val_acc: 0.8901\n",
            "Epoch 7/20\n",
            "49/49 [==============================] - 2s 33ms/step - loss: 0.1867 - acc: 0.9395 - val_loss: 0.2799 - val_acc: 0.8886\n",
            "Epoch 8/20\n",
            "49/49 [==============================] - 2s 33ms/step - loss: 0.1692 - acc: 0.9449 - val_loss: 0.2832 - val_acc: 0.8870\n",
            "Epoch 9/20\n",
            "49/49 [==============================] - 2s 34ms/step - loss: 0.1546 - acc: 0.9500 - val_loss: 0.2866 - val_acc: 0.8854\n",
            "Epoch 10/20\n",
            "49/49 [==============================] - 2s 33ms/step - loss: 0.1422 - acc: 0.9542 - val_loss: 0.2938 - val_acc: 0.8839\n",
            "Epoch 11/20\n",
            "49/49 [==============================] - 2s 33ms/step - loss: 0.1305 - acc: 0.9589 - val_loss: 0.3026 - val_acc: 0.8819\n",
            "Epoch 12/20\n",
            "49/49 [==============================] - 2s 33ms/step - loss: 0.1218 - acc: 0.9622 - val_loss: 0.3121 - val_acc: 0.8797\n",
            "Epoch 13/20\n",
            "49/49 [==============================] - 2s 32ms/step - loss: 0.1121 - acc: 0.9654 - val_loss: 0.3251 - val_acc: 0.8777\n",
            "Epoch 14/20\n",
            "49/49 [==============================] - 2s 33ms/step - loss: 0.1037 - acc: 0.9684 - val_loss: 0.3387 - val_acc: 0.8751\n",
            "Epoch 15/20\n",
            "49/49 [==============================] - 2s 33ms/step - loss: 0.0955 - acc: 0.9716 - val_loss: 0.3584 - val_acc: 0.8714\n",
            "Epoch 16/20\n",
            "49/49 [==============================] - 2s 32ms/step - loss: 0.0879 - acc: 0.9742 - val_loss: 0.3646 - val_acc: 0.8740\n",
            "Epoch 17/20\n",
            "49/49 [==============================] - 2s 33ms/step - loss: 0.0806 - acc: 0.9772 - val_loss: 0.3869 - val_acc: 0.8684\n",
            "Epoch 18/20\n",
            "49/49 [==============================] - 2s 32ms/step - loss: 0.0749 - acc: 0.9793 - val_loss: 0.3944 - val_acc: 0.8692\n",
            "Epoch 19/20\n",
            "49/49 [==============================] - 2s 33ms/step - loss: 0.0687 - acc: 0.9817 - val_loss: 0.4092 - val_acc: 0.8672\n",
            "Epoch 20/20\n",
            "49/49 [==============================] - 2s 33ms/step - loss: 0.0624 - acc: 0.9842 - val_loss: 0.4283 - val_acc: 0.8658\n"
          ],
          "name": "stdout"
        }
      ]
    },
    {
      "cell_type": "code",
      "metadata": {
        "id": "6L6iKWUAmcDV",
        "colab_type": "code",
        "colab": {
          "base_uri": "https://localhost:8080/",
          "height": 34
        },
        "outputId": "2793b46f-925c-4955-f178-1202713d9f9a"
      },
      "source": [
        "print(original_hist.history.keys())"
      ],
      "execution_count": 15,
      "outputs": [
        {
          "output_type": "stream",
          "text": [
            "dict_keys(['loss', 'acc', 'val_loss', 'val_acc'])\n"
          ],
          "name": "stdout"
        }
      ]
    },
    {
      "cell_type": "code",
      "metadata": {
        "id": "UNoaEMdjTakd",
        "colab_type": "code",
        "colab": {}
      },
      "source": [
        "epochs = range(1, 21)\n",
        "original_val_loss = original_hist.history['val_loss']\n",
        "smaller_model_val_loss = smaller_model_hist.history['val_loss']"
      ],
      "execution_count": 16,
      "outputs": []
    },
    {
      "cell_type": "code",
      "metadata": {
        "id": "jQb5GNIcTakt",
        "colab_type": "code",
        "colab": {
          "base_uri": "https://localhost:8080/",
          "height": 279
        },
        "outputId": "f74ebbb3-4c88-4484-e33f-eda9323be514"
      },
      "source": [
        "import matplotlib.pyplot as plt\n",
        "\n",
        "# b+ is for \"blue cross\"\n",
        "plt.plot(epochs, original_val_loss, 'b+', label='Original model')\n",
        "# \"bo\" is for \"blue dot\"\n",
        "plt.plot(epochs, smaller_model_val_loss, 'bo', label='Smaller model')\n",
        "plt.xlabel('Epochs')\n",
        "plt.ylabel('Validation loss')\n",
        "plt.legend()\n",
        "\n",
        "plt.show()"
      ],
      "execution_count": 17,
      "outputs": [
        {
          "output_type": "display_data",
          "data": {
            "image/png": "[encoded data removed]",
            "text/plain": [
              "<Figure size 432x288 with 1 Axes>"
            ]
          },
          "metadata": {
            "tags": [],
            "needs_background": "light"
          }
        }
      ]
    },
    {
      "cell_type": "markdown",
      "metadata": {
        "id": "DwRwMw8VTalE",
        "colab_type": "text"
      },
      "source": [
        "\n",
        "As you can see, the smaller network starts overfitting later than the reference one (after 6 epochs rather than 4) and its performance \n",
        "degrades much more slowly once it starts overfitting.\n",
        "\n",
        "Now, for kicks, let's add to this benchmark a network that has much more capacity, far more than the problem would warrant:"
      ]
    },
    {
      "cell_type": "code",
      "metadata": {
        "id": "ICE9antZTalH",
        "colab_type": "code",
        "colab": {}
      },
      "source": [
        "bigger_model = models.Sequential()\n",
        "bigger_model.add(layers.Dense(512, activation='relu', input_shape=(10000,)))\n",
        "bigger_model.add(layers.Dense(512, activation='relu'))\n",
        "bigger_model.add(layers.Dense(1, activation='sigmoid'))\n",
        "\n",
        "bigger_model.compile(optimizer='rmsprop',\n",
        "                     loss='binary_crossentropy',\n",
        "                     metrics=['acc'])"
      ],
      "execution_count": 18,
      "outputs": []
    },
    {
      "cell_type": "code",
      "metadata": {
        "id": "yoQ_P-BxTalV",
        "colab_type": "code",
        "colab": {
          "base_uri": "https://localhost:8080/",
          "height": 712
        },
        "outputId": "d375ce4f-5ba6-4608-a468-87bde894f014"
      },
      "source": [
        "bigger_model_hist = bigger_model.fit(x_train, y_train,\n",
        "                                     epochs=20,\n",
        "                                     batch_size=512,\n",
        "                                     validation_data=(x_test, y_test))"
      ],
      "execution_count": 19,
      "outputs": [
        {
          "output_type": "stream",
          "text": [
            "Epoch 1/20\n",
            "49/49 [==============================] - 16s 335ms/step - loss: 0.4705 - acc: 0.7930 - val_loss: 0.2821 - val_acc: 0.8895\n",
            "Epoch 2/20\n",
            "49/49 [==============================] - 15s 316ms/step - loss: 0.2245 - acc: 0.9110 - val_loss: 0.2733 - val_acc: 0.8880\n",
            "Epoch 3/20\n",
            "49/49 [==============================] - 16s 320ms/step - loss: 0.1246 - acc: 0.9536 - val_loss: 0.4805 - val_acc: 0.8223\n",
            "Epoch 4/20\n",
            "49/49 [==============================] - 15s 316ms/step - loss: 0.0672 - acc: 0.9822 - val_loss: 0.4370 - val_acc: 0.8815\n",
            "Epoch 5/20\n",
            "49/49 [==============================] - 16s 318ms/step - loss: 0.0904 - acc: 0.9860 - val_loss: 0.4819 - val_acc: 0.8838\n",
            "Epoch 6/20\n",
            "49/49 [==============================] - 16s 319ms/step - loss: 0.0021 - acc: 0.9996 - val_loss: 0.6773 - val_acc: 0.8798\n",
            "Epoch 7/20\n",
            "49/49 [==============================] - 16s 318ms/step - loss: 0.1416 - acc: 0.9886 - val_loss: 0.6869 - val_acc: 0.8733\n",
            "Epoch 8/20\n",
            "49/49 [==============================] - 16s 317ms/step - loss: 5.9849e-04 - acc: 0.9999 - val_loss: 0.7469 - val_acc: 0.8809\n",
            "Epoch 9/20\n",
            "49/49 [==============================] - 15s 316ms/step - loss: 1.2398e-04 - acc: 1.0000 - val_loss: 0.8752 - val_acc: 0.8809\n",
            "Epoch 10/20\n",
            "49/49 [==============================] - 16s 318ms/step - loss: 1.3419e-05 - acc: 1.0000 - val_loss: 1.0510 - val_acc: 0.8797\n",
            "Epoch 11/20\n",
            "49/49 [==============================] - 16s 318ms/step - loss: 1.2834e-06 - acc: 1.0000 - val_loss: 1.2173 - val_acc: 0.8794\n",
            "Epoch 12/20\n",
            "49/49 [==============================] - 16s 318ms/step - loss: 2.2966e-07 - acc: 1.0000 - val_loss: 1.3323 - val_acc: 0.8800\n",
            "Epoch 13/20\n",
            "49/49 [==============================] - 16s 317ms/step - loss: 5.3708e-08 - acc: 1.0000 - val_loss: 1.4370 - val_acc: 0.8798\n",
            "Epoch 14/20\n",
            "49/49 [==============================] - 15s 316ms/step - loss: 2.2041e-08 - acc: 1.0000 - val_loss: 1.4907 - val_acc: 0.8794\n",
            "Epoch 15/20\n",
            "49/49 [==============================] - 16s 317ms/step - loss: 1.3721e-08 - acc: 1.0000 - val_loss: 1.5210 - val_acc: 0.8793\n",
            "Epoch 16/20\n",
            "49/49 [==============================] - 16s 331ms/step - loss: 9.9771e-09 - acc: 1.0000 - val_loss: 1.5425 - val_acc: 0.8792\n",
            "Epoch 17/20\n",
            "49/49 [==============================] - 16s 317ms/step - loss: 7.8680e-09 - acc: 1.0000 - val_loss: 1.5599 - val_acc: 0.8792\n",
            "Epoch 18/20\n",
            "49/49 [==============================] - 16s 317ms/step - loss: 6.4994e-09 - acc: 1.0000 - val_loss: 1.5738 - val_acc: 0.8792\n",
            "Epoch 19/20\n",
            "49/49 [==============================] - 15s 315ms/step - loss: 5.5572e-09 - acc: 1.0000 - val_loss: 1.5859 - val_acc: 0.8793\n",
            "Epoch 20/20\n",
            "49/49 [==============================] - 16s 320ms/step - loss: 4.8635e-09 - acc: 1.0000 - val_loss: 1.5956 - val_acc: 0.8793\n"
          ],
          "name": "stdout"
        }
      ]
    },
    {
      "cell_type": "markdown",
      "metadata": {
        "id": "fIREi61-Talm",
        "colab_type": "text"
      },
      "source": [
        "Here's how the bigger network fares compared to the reference one. The dots are the validation loss values of the bigger network, and the \n",
        "crosses are the initial network."
      ]
    },
    {
      "cell_type": "code",
      "metadata": {
        "id": "d5NyuvC8Talq",
        "colab_type": "code",
        "colab": {
          "base_uri": "https://localhost:8080/",
          "height": 279
        },
        "outputId": "c881d82a-c6cf-4be4-8b86-c62868ee59f8"
      },
      "source": [
        "bigger_model_val_loss = bigger_model_hist.history['val_loss']\n",
        "\n",
        "plt.plot(epochs, original_val_loss, 'b+', label='Original model')\n",
        "plt.plot(epochs, bigger_model_val_loss, 'bo', label='Bigger model')\n",
        "plt.xlabel('Epochs')\n",
        "plt.ylabel('Validation loss')\n",
        "plt.legend()\n",
        "\n",
        "plt.show()"
      ],
      "execution_count": 20,
      "outputs": [
        {
          "output_type": "display_data",
          "data": {
            "image/png": "[encoded data removed]",
            "text/plain": [
              "<Figure size 432x288 with 1 Axes>"
            ]
          },
          "metadata": {
            "tags": [],
            "needs_background": "light"
          }
        }
      ]
    },
    {
      "cell_type": "markdown",
      "metadata": {
        "id": "cGHvOBftTamB",
        "colab_type": "text"
      },
      "source": [
        "\n",
        "The bigger network starts overfitting almost right away, after just one epoch, and overfits much more severely. Its validation loss is also \n",
        "more noisy.\n",
        "\n",
        "Meanwhile, here are the training losses for our two networks:"
      ]
    },
    {
      "cell_type": "code",
      "metadata": {
        "id": "wi8b-4JfTamF",
        "colab_type": "code",
        "colab": {
          "base_uri": "https://localhost:8080/",
          "height": 279
        },
        "outputId": "d665f4d6-b659-4d7e-c20f-abf555d0af33"
      },
      "source": [
        "original_train_loss = original_hist.history['loss']\n",
        "bigger_model_train_loss = bigger_model_hist.history['loss']\n",
        "\n",
        "plt.plot(epochs, original_train_loss, 'b+', label='Original model')\n",
        "plt.plot(epochs, bigger_model_train_loss, 'bo', label='Bigger model')\n",
        "plt.xlabel('Epochs')\n",
        "plt.ylabel('Training loss')\n",
        "plt.legend()\n",
        "\n",
        "plt.show()"
      ],
      "execution_count": 21,
      "outputs": [
        {
          "output_type": "display_data",
          "data": {
            "image/png": "[encoded data removed]",
            "text/plain": [
              "<Figure size 432x288 with 1 Axes>"
            ]
          },
          "metadata": {
            "tags": [],
            "needs_background": "light"
          }
        }
      ]
    },
    {
      "cell_type": "markdown",
      "metadata": {
        "id": "iFXcadP-TamX",
        "colab_type": "text"
      },
      "source": [
        "As you can see, the bigger network gets its training loss near zero very quickly. The more capacity the network has, the quicker it will be \n",
        "able to model the training data (resulting in a low training loss), but the more susceptible it is to overfitting (resulting in a large \n",
        "difference between the training and validation loss)."
      ]
    },
    {
      "cell_type": "markdown",
      "metadata": {
        "id": "kQ3XhEYxTamY",
        "colab_type": "text"
      },
      "source": [
        "## Adding weight regularization\n",
        "\n",
        "\n",
        "You may be familiar with **_Occam's Razor_ principle: given two explanations for something, the explanation most likely to be correct is the \n",
        "\"simplest\" one, the one that makes the least amount of assumptions.** This also applies to the models learned by neural networks: given some \n",
        "training data and a network architecture, there are multiple sets of weights values (multiple _models_) that could explain the data, and \n",
        "simpler models are less likely to overfit than complex ones.\n",
        "\n",
        "A **\"simple model\"** in this context is **a model where the distribution of parameter values has less entropy** (or **a model with fewer \n",
        "parameters altogether**, as we saw in the section above). Thus a common way to mitigate overfitting is to **put constraints on the complexity \n",
        "of a network** by **forcing its weights to only take small values, which makes the distribution of weight values more \"regular\". This is called \n",
        "\"weight regularization\"**, and it is done by **adding to the loss function of the network a _cost_ associated with having large weights**. This \n",
        "cost comes in two flavors:\n",
        "\n",
        "* **L1 regularization**, where the cost added is proportional to the _absolute value of the weights coefficients_ (i.e. to what is called the \n",
        "\"L1 norm\" of the weights).\n",
        "* **L2 regularization**, where the cost added is proportional to the _square of the value of the weights coefficients_ (i.e. to what is called \n",
        "the \"L2 norm\" of the weights). L2 regularization is also called _weight decay_ in the context of neural networks. Don't let the different \n",
        "name confuse you: weight decay is mathematically the exact same as L2 regularization.\n",
        "\n",
        "In Keras, weight regularization is added by passing **_weight regularizer instances_** to layers as keyword arguments. Let's add L2 weight \n",
        "regularization to our movie review classification network:"
      ]
    },
    {
      "cell_type": "code",
      "metadata": {
        "id": "vvGxTwBFTamc",
        "colab_type": "code",
        "colab": {}
      },
      "source": [
        "from keras import regularizers\n",
        "\n",
        "l2_model = models.Sequential()\n",
        "l2_model.add(layers.Dense(16, kernel_regularizer=regularizers.l2(0.001),\n",
        "                          activation='relu', input_shape=(10000,)))\n",
        "l2_model.add(layers.Dense(16, kernel_regularizer=regularizers.l2(0.001),\n",
        "                          activation='relu'))\n",
        "l2_model.add(layers.Dense(1, activation='sigmoid'))"
      ],
      "execution_count": 22,
      "outputs": []
    },
    {
      "cell_type": "code",
      "metadata": {
        "id": "RePIyq3MTamw",
        "colab_type": "code",
        "colab": {}
      },
      "source": [
        "l2_model.compile(optimizer='rmsprop',\n",
        "                 loss='binary_crossentropy',\n",
        "                 metrics=['acc'])"
      ],
      "execution_count": 23,
      "outputs": []
    },
    {
      "cell_type": "markdown",
      "metadata": {
        "id": "65E-hH8dTam-",
        "colab_type": "text"
      },
      "source": [
        "`l2(0.001)` means that **every coefficient in the weight matrix of the layer** will **add `0.001 * weight_coefficient_value` to the total loss of \n",
        "the network**. Note that because this penalty is _only added at training time_, the loss for this network will be much higher at training \n",
        "than at test time.\n",
        "\n",
        "Here's the impact of our L2 regularization penalty:"
      ]
    },
    {
      "cell_type": "code",
      "metadata": {
        "id": "0_AOEh96TanA",
        "colab_type": "code",
        "colab": {
          "base_uri": "https://localhost:8080/",
          "height": 712
        },
        "outputId": "ae91cd30-92ca-4c00-80a4-0fba09caaa8e"
      },
      "source": [
        "l2_model_hist = l2_model.fit(x_train, y_train,\n",
        "                             epochs=20,\n",
        "                             batch_size=512,\n",
        "                             validation_data=(x_test, y_test))"
      ],
      "execution_count": 24,
      "outputs": [
        {
          "output_type": "stream",
          "text": [
            "Epoch 1/20\n",
            "49/49 [==============================] - 5s 97ms/step - loss: 0.4788 - acc: 0.8211 - val_loss: 0.3750 - val_acc: 0.8824\n",
            "Epoch 2/20\n",
            "49/49 [==============================] - 2s 37ms/step - loss: 0.3104 - acc: 0.9076 - val_loss: 0.3334 - val_acc: 0.8894\n",
            "Epoch 3/20\n",
            "49/49 [==============================] - 2s 38ms/step - loss: 0.2676 - acc: 0.9210 - val_loss: 0.3316 - val_acc: 0.8883\n",
            "Epoch 4/20\n",
            "49/49 [==============================] - 2s 37ms/step - loss: 0.2486 - acc: 0.9287 - val_loss: 0.3549 - val_acc: 0.8773\n",
            "Epoch 5/20\n",
            "49/49 [==============================] - 2s 37ms/step - loss: 0.2366 - acc: 0.9347 - val_loss: 0.3729 - val_acc: 0.8745\n",
            "Epoch 6/20\n",
            "49/49 [==============================] - 2s 37ms/step - loss: 0.2318 - acc: 0.9355 - val_loss: 0.3563 - val_acc: 0.8794\n",
            "Epoch 7/20\n",
            "49/49 [==============================] - 2s 37ms/step - loss: 0.2244 - acc: 0.9384 - val_loss: 0.3927 - val_acc: 0.8700\n",
            "Epoch 8/20\n",
            "49/49 [==============================] - 2s 37ms/step - loss: 0.2192 - acc: 0.9424 - val_loss: 0.4231 - val_acc: 0.8582\n",
            "Epoch 9/20\n",
            "49/49 [==============================] - 2s 38ms/step - loss: 0.2180 - acc: 0.9411 - val_loss: 0.4038 - val_acc: 0.8695\n",
            "Epoch 10/20\n",
            "49/49 [==============================] - 2s 37ms/step - loss: 0.2159 - acc: 0.9417 - val_loss: 0.3857 - val_acc: 0.8751\n",
            "Epoch 11/20\n",
            "49/49 [==============================] - 2s 38ms/step - loss: 0.2118 - acc: 0.9445 - val_loss: 0.3898 - val_acc: 0.8744\n",
            "Epoch 12/20\n",
            "49/49 [==============================] - 2s 38ms/step - loss: 0.2069 - acc: 0.9457 - val_loss: 0.4169 - val_acc: 0.8639\n",
            "Epoch 13/20\n",
            "49/49 [==============================] - 2s 38ms/step - loss: 0.2067 - acc: 0.9437 - val_loss: 0.4053 - val_acc: 0.8713\n",
            "Epoch 14/20\n",
            "49/49 [==============================] - 2s 38ms/step - loss: 0.2021 - acc: 0.9493 - val_loss: 0.4206 - val_acc: 0.8654\n",
            "Epoch 15/20\n",
            "49/49 [==============================] - 2s 38ms/step - loss: 0.2052 - acc: 0.9458 - val_loss: 0.4154 - val_acc: 0.8697\n",
            "Epoch 16/20\n",
            "49/49 [==============================] - 2s 38ms/step - loss: 0.2014 - acc: 0.9468 - val_loss: 0.4082 - val_acc: 0.8702\n",
            "Epoch 17/20\n",
            "49/49 [==============================] - 2s 38ms/step - loss: 0.1961 - acc: 0.9498 - val_loss: 0.4107 - val_acc: 0.8713\n",
            "Epoch 18/20\n",
            "49/49 [==============================] - 2s 38ms/step - loss: 0.1944 - acc: 0.9500 - val_loss: 0.4161 - val_acc: 0.8705\n",
            "Epoch 19/20\n",
            "49/49 [==============================] - 2s 38ms/step - loss: 0.1946 - acc: 0.9503 - val_loss: 0.4232 - val_acc: 0.8675\n",
            "Epoch 20/20\n",
            "49/49 [==============================] - 2s 38ms/step - loss: 0.1946 - acc: 0.9489 - val_loss: 0.4325 - val_acc: 0.8668\n"
          ],
          "name": "stdout"
        }
      ]
    },
    {
      "cell_type": "code",
      "metadata": {
        "id": "_ZjRUa-DTanJ",
        "colab_type": "code",
        "colab": {
          "base_uri": "https://localhost:8080/",
          "height": 279
        },
        "outputId": "e7d09d92-5fd7-4f66-80ab-ed4d841bff0d"
      },
      "source": [
        "l2_model_val_loss = l2_model_hist.history['val_loss']\n",
        "\n",
        "plt.plot(epochs, original_val_loss, 'b+', label='Original model')\n",
        "plt.plot(epochs, l2_model_val_loss, 'bo', label='L2-regularized model')\n",
        "plt.xlabel('Epochs')\n",
        "plt.ylabel('Validation loss')\n",
        "plt.legend()\n",
        "\n",
        "plt.show()"
      ],
      "execution_count": 25,
      "outputs": [
        {
          "output_type": "display_data",
          "data": {
            "image/png": "[encoded data removed]",
            "text/plain": [
              "<Figure size 432x288 with 1 Axes>"
            ]
          },
          "metadata": {
            "tags": [],
            "needs_background": "light"
          }
        }
      ]
    },
    {
      "cell_type": "markdown",
      "metadata": {
        "id": "Wy6XzVnrTanZ",
        "colab_type": "text"
      },
      "source": [
        "\n",
        "\n",
        "As you can see, the model with L2 regularization (dots) has become much more resistant to overfitting than the reference model (crosses), \n",
        "even though both models have the same number of parameters.\n",
        "\n",
        "As alternatives to L2 regularization, you could use one of the following Keras weight regularizers:"
      ]
    },
    {
      "cell_type": "code",
      "metadata": {
        "id": "f_XzjLedTana",
        "colab_type": "code",
        "colab": {
          "base_uri": "https://localhost:8080/",
          "height": 34
        },
        "outputId": "bf8be283-1f89-4c7f-f145-006b41f35e8f"
      },
      "source": [
        "from keras import regularizers\n",
        "\n",
        "# L1 regularization\n",
        "regularizers.l1(0.001)\n",
        "\n",
        "# L1 and L2 regularization at the same time\n",
        "regularizers.l1_l2(l1=0.001, l2=0.001)"
      ],
      "execution_count": 26,
      "outputs": [
        {
          "output_type": "execute_result",
          "data": {
            "text/plain": [
              "<tensorflow.python.keras.regularizers.L1L2 at 0x7fa8f1adcdd8>"
            ]
          },
          "metadata": {
            "tags": []
          },
          "execution_count": 26
        }
      ]
    },
    {
      "cell_type": "markdown",
      "metadata": {
        "id": "_SlsWhOkTanl",
        "colab_type": "text"
      },
      "source": [
        "## Adding dropout\n",
        "\n",
        "\n",
        "**Dropout is one of the most effective and most commonly used regularization techniques** for neural networks, developed by Hinton and his \n",
        "students at the University of Toronto. Dropout, applied to a layer, consists of randomly \"dropping out\" (i.e. setting to zero) a number of \n",
        "output features of the layer during training. Let's say a given layer would normally have returned a vector `[0.2, 0.5, 1.3, 0.8, 1.1]` for a \n",
        "given input sample during training; after applying dropout, this vector will have a few zero entries distributed at random, e.g. `[0, 0.5, \n",
        "1.3, 0, 1.1]`. The \"dropout rate\" is the fraction of the features that are being zeroed-out; it is usually set between 0.2 and 0.5. At test \n",
        "time, no units are dropped out, and instead the layer's output values are scaled down by a factor equal to the dropout rate, so as to \n",
        "balance for the fact that more units are active than at training time.\n",
        "\n",
        "Consider a Numpy matrix containing the output of a layer, `layer_output`, of shape `(batch_size, features)`. **At training time**, we would be \n",
        "zero-ing out at random a fraction of the values in the matrix:"
      ]
    },
    {
      "cell_type": "code",
      "metadata": {
        "id": "j_6ZupxETann",
        "colab_type": "code",
        "colab": {}
      },
      "source": [
        "# At training time: we drop out 50% of the units in the output\n",
        "layer_output *= np.randint(0, high=2, size=layer_output.shape)"
      ],
      "execution_count": null,
      "outputs": []
    },
    {
      "cell_type": "markdown",
      "metadata": {
        "id": "g7kUKHNhTanz",
        "colab_type": "text"
      },
      "source": [
        "\n",
        "**At test time**, we would be scaling the output down by the dropout rate. Here we scale by 0.5 (because we were previous dropping half the \n",
        "units):"
      ]
    },
    {
      "cell_type": "code",
      "metadata": {
        "id": "V0KDns46Tan1",
        "colab_type": "code",
        "colab": {}
      },
      "source": [
        "# At test time:\n",
        "layer_output *= 0.5"
      ],
      "execution_count": null,
      "outputs": []
    },
    {
      "cell_type": "markdown",
      "metadata": {
        "id": "kZrJVVuVTan9",
        "colab_type": "text"
      },
      "source": [
        "\n",
        "Note that this process can be implemented by doing both operations at training time and leaving the output unchanged at test time, which is \n",
        "often the way it is implemented in practice:"
      ]
    },
    {
      "cell_type": "code",
      "metadata": {
        "id": "q52qTJCcTan_",
        "colab_type": "code",
        "colab": {}
      },
      "source": [
        "# At training time:\n",
        "layer_output *= np.randint(0, high=2, size=layer_output.shape)\n",
        "# Note that we are scaling *up* rather scaling *down* in this case\n",
        "layer_output /= 0.5"
      ],
      "execution_count": null,
      "outputs": []
    },
    {
      "cell_type": "markdown",
      "metadata": {
        "id": "3gHpGC9YTaoO",
        "colab_type": "text"
      },
      "source": [
        "\n",
        "This technique may seem strange and arbitrary. Why would this help reduce overfitting? Geoff Hinton has said that he was inspired, among \n",
        "other things, by a fraud prevention mechanism used by banks -- in his own words: _\"I went to my bank. The tellers kept changing and I asked \n",
        "one of them why. He said he didn’t know but they got moved around a lot. I figured it must be because it would require cooperation \n",
        "between employees to successfully defraud the bank. This made me realize that randomly removing a different subset of neurons on each \n",
        "example would prevent conspiracies and thus reduce overfitting\"_.\n",
        "\n",
        "**The core idea** is that **introducing noise in the output values of a layer can break up happenstance patterns that are not significant** (what \n",
        "Hinton refers to as \"conspiracies\"), which the network would start memorizing if no noise was present. \n",
        "\n",
        "In Keras you can introduce dropout in a network via the `Dropout` layer, which gets applied to the output of layer right before it, e.g.:"
      ]
    },
    {
      "cell_type": "code",
      "metadata": {
        "id": "_c828C6hTaoR",
        "colab_type": "code",
        "colab": {}
      },
      "source": [
        "model.add(layers.Dropout(0.5))"
      ],
      "execution_count": null,
      "outputs": []
    },
    {
      "cell_type": "markdown",
      "metadata": {
        "id": "g_zG2Z08Taof",
        "colab_type": "text"
      },
      "source": [
        "Let's add two `Dropout` layers in our IMDB network to see how well they do at reducing overfitting:"
      ]
    },
    {
      "cell_type": "code",
      "metadata": {
        "id": "5CfrbLHlTaoh",
        "colab_type": "code",
        "colab": {}
      },
      "source": [
        "dpt_model = models.Sequential()\n",
        "dpt_model.add(layers.Dense(16, activation='relu', input_shape=(10000,)))\n",
        "dpt_model.add(layers.Dropout(0.5))\n",
        "dpt_model.add(layers.Dense(16, activation='relu'))\n",
        "dpt_model.add(layers.Dropout(0.5))\n",
        "dpt_model.add(layers.Dense(1, activation='sigmoid'))\n",
        "\n",
        "dpt_model.compile(optimizer='rmsprop',\n",
        "                  loss='binary_crossentropy',\n",
        "                  metrics=['acc'])"
      ],
      "execution_count": 30,
      "outputs": []
    },
    {
      "cell_type": "code",
      "metadata": {
        "id": "2b7H0F_lTaou",
        "colab_type": "code",
        "colab": {
          "base_uri": "https://localhost:8080/",
          "height": 712
        },
        "outputId": "fc80dd0d-01c9-4225-e922-543451105e1b"
      },
      "source": [
        "dpt_model_hist = dpt_model.fit(x_train, y_train,\n",
        "                               epochs=20,\n",
        "                               batch_size=512,\n",
        "                               validation_data=(x_test, y_test))"
      ],
      "execution_count": 31,
      "outputs": [
        {
          "output_type": "stream",
          "text": [
            "Epoch 1/20\n",
            "49/49 [==============================] - 5s 103ms/step - loss: 0.5970 - acc: 0.6854 - val_loss: 0.4721 - val_acc: 0.8643\n",
            "Epoch 2/20\n",
            "49/49 [==============================] - 2s 39ms/step - loss: 0.4514 - acc: 0.8143 - val_loss: 0.3545 - val_acc: 0.8837\n",
            "Epoch 3/20\n",
            "49/49 [==============================] - 2s 38ms/step - loss: 0.3572 - acc: 0.8664 - val_loss: 0.2915 - val_acc: 0.8893\n",
            "Epoch 4/20\n",
            "49/49 [==============================] - 2s 37ms/step - loss: 0.3018 - acc: 0.8919 - val_loss: 0.2851 - val_acc: 0.8852\n",
            "Epoch 5/20\n",
            "49/49 [==============================] - 2s 38ms/step - loss: 0.2584 - acc: 0.9083 - val_loss: 0.2758 - val_acc: 0.8898\n",
            "Epoch 6/20\n",
            "49/49 [==============================] - 2s 38ms/step - loss: 0.2321 - acc: 0.9212 - val_loss: 0.2851 - val_acc: 0.8890\n",
            "Epoch 7/20\n",
            "49/49 [==============================] - 2s 38ms/step - loss: 0.2061 - acc: 0.9274 - val_loss: 0.3020 - val_acc: 0.8872\n",
            "Epoch 8/20\n",
            "49/49 [==============================] - 2s 38ms/step - loss: 0.1881 - acc: 0.9356 - val_loss: 0.3230 - val_acc: 0.8830\n",
            "Epoch 9/20\n",
            "49/49 [==============================] - 2s 38ms/step - loss: 0.1693 - acc: 0.9415 - val_loss: 0.3471 - val_acc: 0.8836\n",
            "Epoch 10/20\n",
            "49/49 [==============================] - 2s 38ms/step - loss: 0.1597 - acc: 0.9451 - val_loss: 0.3552 - val_acc: 0.8840\n",
            "Epoch 11/20\n",
            "49/49 [==============================] - 2s 38ms/step - loss: 0.1522 - acc: 0.9471 - val_loss: 0.3970 - val_acc: 0.8782\n",
            "Epoch 12/20\n",
            "49/49 [==============================] - 2s 38ms/step - loss: 0.1423 - acc: 0.9484 - val_loss: 0.4054 - val_acc: 0.8810\n",
            "Epoch 13/20\n",
            "49/49 [==============================] - 2s 40ms/step - loss: 0.1358 - acc: 0.9512 - val_loss: 0.4081 - val_acc: 0.8809\n",
            "Epoch 14/20\n",
            "49/49 [==============================] - 2s 40ms/step - loss: 0.1306 - acc: 0.9522 - val_loss: 0.4612 - val_acc: 0.8767\n",
            "Epoch 15/20\n",
            "49/49 [==============================] - 2s 40ms/step - loss: 0.1195 - acc: 0.9551 - val_loss: 0.4840 - val_acc: 0.8800\n",
            "Epoch 16/20\n",
            "49/49 [==============================] - 2s 39ms/step - loss: 0.1188 - acc: 0.9559 - val_loss: 0.5068 - val_acc: 0.8770\n",
            "Epoch 17/20\n",
            "49/49 [==============================] - 2s 38ms/step - loss: 0.1186 - acc: 0.9553 - val_loss: 0.5061 - val_acc: 0.8771\n",
            "Epoch 18/20\n",
            "49/49 [==============================] - 2s 38ms/step - loss: 0.1121 - acc: 0.9581 - val_loss: 0.5417 - val_acc: 0.8762\n",
            "Epoch 19/20\n",
            "49/49 [==============================] - 2s 37ms/step - loss: 0.1160 - acc: 0.9594 - val_loss: 0.5534 - val_acc: 0.8737\n",
            "Epoch 20/20\n",
            "49/49 [==============================] - 2s 37ms/step - loss: 0.1101 - acc: 0.9592 - val_loss: 0.5562 - val_acc: 0.8736\n"
          ],
          "name": "stdout"
        }
      ]
    },
    {
      "cell_type": "markdown",
      "metadata": {
        "id": "eojhI-AITao6",
        "colab_type": "text"
      },
      "source": [
        "Let's plot the results:"
      ]
    },
    {
      "cell_type": "code",
      "metadata": {
        "id": "Oi4nrm1pTao7",
        "colab_type": "code",
        "colab": {
          "base_uri": "https://localhost:8080/",
          "height": 279
        },
        "outputId": "feb45167-5ce7-462d-8331-4a317de8f9d1"
      },
      "source": [
        "dpt_model_val_loss = dpt_model_hist.history['val_loss']\n",
        "\n",
        "plt.plot(epochs, original_val_loss, 'b+', label='Original model')\n",
        "plt.plot(epochs, dpt_model_val_loss, 'bo', label='Dropout-regularized model')\n",
        "plt.xlabel('Epochs')\n",
        "plt.ylabel('Validation loss')\n",
        "plt.legend()\n",
        "\n",
        "plt.show()"
      ],
      "execution_count": 32,
      "outputs": [
        {
          "output_type": "display_data",
          "data": {
            "image/png": "[encoded data removed]",
            "text/plain": [
              "<Figure size 432x288 with 1 Axes>"
            ]
          },
          "metadata": {
            "tags": [],
            "needs_background": "light"
          }
        }
      ]
    },
    {
      "cell_type": "markdown",
      "metadata": {
        "id": "6jUUl3AwTapG",
        "colab_type": "text"
      },
      "source": [
        "\n",
        "Again, a clear improvement over the reference network.\n",
        "\n",
        "To recap: here the most common ways to prevent overfitting in neural networks:\n",
        "\n",
        "* Getting more training data.\n",
        "* Reducing the capacity of the network.\n",
        "* Adding weight regularization.\n",
        "* Adding dropout."
      ]
    }
  ]
}