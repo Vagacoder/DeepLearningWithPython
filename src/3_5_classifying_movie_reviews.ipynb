{
  "nbformat": 4,
  "nbformat_minor": 0,
  "metadata": {
    "kernelspec": {
      "display_name": "Python 3",
      "language": "python",
      "name": "python3"
    },
    "language_info": {
      "codemirror_mode": {
        "name": "ipython",
        "version": 3
      },
      "file_extension": ".py",
      "mimetype": "text/x-python",
      "name": "python",
      "nbconvert_exporter": "python",
      "pygments_lexer": "ipython3",
      "version": "3.5.2"
    },
    "colab": {
      "name": "3.5-classifying-movie-reviews.ipynb",
      "provenance": [],
      "collapsed_sections": [],
      "include_colab_link": true
    }
  },
  "cells": [
    {
      "cell_type": "markdown",
      "metadata": {
        "id": "view-in-github",
        "colab_type": "text"
      },
      "source": [
        "<a href=\"https://colab.research.google.com/github/Vagacoder/DeepLearningWithPython/blob/master/src/3_5_classifying_movie_reviews.ipynb\" target=\"_parent\"><img src=\"https://colab.research.google.com/assets/colab-badge.svg\" alt=\"Open In Colab\"/></a>"
      ]
    },
    {
      "cell_type": "code",
      "metadata": {
        "id": "AE-vjpiDCxBJ",
        "colab_type": "code",
        "colab": {
          "base_uri": "https://localhost:8080/",
          "height": 35
        },
        "outputId": "cf947d7f-fdb0-4e5a-8aaf-1d9e424cb7bf"
      },
      "source": [
        "import keras\n",
        "keras.__version__"
      ],
      "execution_count": 1,
      "outputs": [
        {
          "output_type": "execute_result",
          "data": {
            "application/vnd.google.colaboratory.intrinsic+json": {
              "type": "string"
            },
            "text/plain": [
              "'2.4.3'"
            ]
          },
          "metadata": {
            "tags": []
          },
          "execution_count": 1
        }
      ]
    },
    {
      "cell_type": "markdown",
      "metadata": {
        "id": "_dUU5C56CxBk",
        "colab_type": "text"
      },
      "source": [
        "# Classifying movie reviews: a binary classification example\n",
        "\n",
        "This notebook contains the code samples found in Chapter 3, Section 5 of [Deep Learning with Python](https://www.manning.com/books/deep-learning-with-python?a_aid=keras&a_bid=76564dff). Note that the original text features far more content, in particular further explanations and figures: in this notebook, you will only find source code and related comments.\n",
        "\n",
        "----\n",
        "\n",
        "\n",
        "Two-class classification, or binary classification, may be the most widely applied kind of machine learning problem. In this example, we \n",
        "will learn to classify movie reviews into \"positive\" reviews and \"negative\" reviews, just based on the text content of the reviews."
      ]
    },
    {
      "cell_type": "markdown",
      "metadata": {
        "id": "QC6OjHW-CxBm",
        "colab_type": "text"
      },
      "source": [
        "## The IMDB dataset\n",
        "\n",
        "\n",
        "We'll be working with \"IMDB dataset\", a set of 50,000 **highly-polarized** reviews from the Internet Movie Database. They are split into 25,000 \n",
        "reviews for training and 25,000 reviews for testing, each set consisting in **50% negative** and **50% positive** reviews.\n",
        "\n",
        "Why do we have these two separate training and test sets? You should never test a machine learning model on the same data that you used to \n",
        "train it! Just because a model performs well on its training data doesn't mean that it will perform well on data it has never seen, and \n",
        "what you actually care about is your model's performance on new data (since you already know the labels of your training data -- obviously \n",
        "you don't need your model to predict those). For instance, it is possible that your model could end up merely _memorizing_ a mapping between \n",
        "your training samples and their targets -- which would be completely useless for the task of predicting targets for data never seen before. \n",
        "We will go over this point in much more detail in the next chapter.\n",
        "\n",
        "Just like the MNIST dataset, the IMDB dataset comes packaged with Keras. It has already been **preprocessed**: the reviews (sequences of words) \n",
        "have been turned into **sequences of integers**, _where each integer stands for a specific word in a dictionary_.\n",
        "\n",
        "The following code will load the dataset (when you run it for the first time, about 80MB of data will be downloaded to your machine):"
      ]
    },
    {
      "cell_type": "code",
      "metadata": {
        "id": "LcRDHTwXCxBw",
        "colab_type": "code",
        "colab": {
          "base_uri": "https://localhost:8080/",
          "height": 52
        },
        "outputId": "df30d638-174f-4936-bc79-ae91451c4008"
      },
      "source": [
        "from keras.datasets import imdb\n",
        "\n",
        "(train_data, train_labels), (test_data, test_labels) = imdb.load_data(num_words=10000)"
      ],
      "execution_count": 2,
      "outputs": [
        {
          "output_type": "stream",
          "text": [
            "Downloading data from https://storage.googleapis.com/tensorflow/tf-keras-datasets/imdb.npz\n",
            "17465344/17464789 [==============================] - 0s 0us/step\n"
          ],
          "name": "stdout"
        }
      ]
    },
    {
      "cell_type": "markdown",
      "metadata": {
        "id": "MJLAsh1QCxCA",
        "colab_type": "text"
      },
      "source": [
        "\n",
        "The argument `num_words=10000` means that we will only keep the top **10,000 most frequently occurring words** in the training data. **Rare words \n",
        "will be discarded**. This allows us to work with vector data of manageable size.\n",
        "\n",
        "The variables `train_data` and `test_data` are lists of reviews, each review being a list of word indices (encoding a sequence of words). \n",
        "`train_labels` and `test_labels` are lists of 0s and 1s, **where 0 stands for \"negative\" and 1 stands for \"positive\"**:"
      ]
    },
    {
      "cell_type": "code",
      "metadata": {
        "id": "Oc5bmIQACxCE",
        "colab_type": "code",
        "colab": {
          "base_uri": "https://localhost:8080/",
          "height": 1000
        },
        "outputId": "0189ae68-2f8f-4cd6-fc92-987323e80241"
      },
      "source": [
        "train_data[0]"
      ],
      "execution_count": 3,
      "outputs": [
        {
          "output_type": "execute_result",
          "data": {
            "text/plain": [
              "[1,\n",
              " 14,\n",
              " 22,\n",
              " 16,\n",
              " 43,\n",
              " 530,\n",
              " 973,\n",
              " 1622,\n",
              " 1385,\n",
              " 65,\n",
              " 458,\n",
              " 4468,\n",
              " 66,\n",
              " 3941,\n",
              " 4,\n",
              " 173,\n",
              " 36,\n",
              " 256,\n",
              " 5,\n",
              " 25,\n",
              " 100,\n",
              " 43,\n",
              " 838,\n",
              " 112,\n",
              " 50,\n",
              " 670,\n",
              " 2,\n",
              " 9,\n",
              " 35,\n",
              " 480,\n",
              " 284,\n",
              " 5,\n",
              " 150,\n",
              " 4,\n",
              " 172,\n",
              " 112,\n",
              " 167,\n",
              " 2,\n",
              " 336,\n",
              " 385,\n",
              " 39,\n",
              " 4,\n",
              " 172,\n",
              " 4536,\n",
              " 1111,\n",
              " 17,\n",
              " 546,\n",
              " 38,\n",
              " 13,\n",
              " 447,\n",
              " 4,\n",
              " 192,\n",
              " 50,\n",
              " 16,\n",
              " 6,\n",
              " 147,\n",
              " 2025,\n",
              " 19,\n",
              " 14,\n",
              " 22,\n",
              " 4,\n",
              " 1920,\n",
              " 4613,\n",
              " 469,\n",
              " 4,\n",
              " 22,\n",
              " 71,\n",
              " 87,\n",
              " 12,\n",
              " 16,\n",
              " 43,\n",
              " 530,\n",
              " 38,\n",
              " 76,\n",
              " 15,\n",
              " 13,\n",
              " 1247,\n",
              " 4,\n",
              " 22,\n",
              " 17,\n",
              " 515,\n",
              " 17,\n",
              " 12,\n",
              " 16,\n",
              " 626,\n",
              " 18,\n",
              " 2,\n",
              " 5,\n",
              " 62,\n",
              " 386,\n",
              " 12,\n",
              " 8,\n",
              " 316,\n",
              " 8,\n",
              " 106,\n",
              " 5,\n",
              " 4,\n",
              " 2223,\n",
              " 5244,\n",
              " 16,\n",
              " 480,\n",
              " 66,\n",
              " 3785,\n",
              " 33,\n",
              " 4,\n",
              " 130,\n",
              " 12,\n",
              " 16,\n",
              " 38,\n",
              " 619,\n",
              " 5,\n",
              " 25,\n",
              " 124,\n",
              " 51,\n",
              " 36,\n",
              " 135,\n",
              " 48,\n",
              " 25,\n",
              " 1415,\n",
              " 33,\n",
              " 6,\n",
              " 22,\n",
              " 12,\n",
              " 215,\n",
              " 28,\n",
              " 77,\n",
              " 52,\n",
              " 5,\n",
              " 14,\n",
              " 407,\n",
              " 16,\n",
              " 82,\n",
              " 2,\n",
              " 8,\n",
              " 4,\n",
              " 107,\n",
              " 117,\n",
              " 5952,\n",
              " 15,\n",
              " 256,\n",
              " 4,\n",
              " 2,\n",
              " 7,\n",
              " 3766,\n",
              " 5,\n",
              " 723,\n",
              " 36,\n",
              " 71,\n",
              " 43,\n",
              " 530,\n",
              " 476,\n",
              " 26,\n",
              " 400,\n",
              " 317,\n",
              " 46,\n",
              " 7,\n",
              " 4,\n",
              " 2,\n",
              " 1029,\n",
              " 13,\n",
              " 104,\n",
              " 88,\n",
              " 4,\n",
              " 381,\n",
              " 15,\n",
              " 297,\n",
              " 98,\n",
              " 32,\n",
              " 2071,\n",
              " 56,\n",
              " 26,\n",
              " 141,\n",
              " 6,\n",
              " 194,\n",
              " 7486,\n",
              " 18,\n",
              " 4,\n",
              " 226,\n",
              " 22,\n",
              " 21,\n",
              " 134,\n",
              " 476,\n",
              " 26,\n",
              " 480,\n",
              " 5,\n",
              " 144,\n",
              " 30,\n",
              " 5535,\n",
              " 18,\n",
              " 51,\n",
              " 36,\n",
              " 28,\n",
              " 224,\n",
              " 92,\n",
              " 25,\n",
              " 104,\n",
              " 4,\n",
              " 226,\n",
              " 65,\n",
              " 16,\n",
              " 38,\n",
              " 1334,\n",
              " 88,\n",
              " 12,\n",
              " 16,\n",
              " 283,\n",
              " 5,\n",
              " 16,\n",
              " 4472,\n",
              " 113,\n",
              " 103,\n",
              " 32,\n",
              " 15,\n",
              " 16,\n",
              " 5345,\n",
              " 19,\n",
              " 178,\n",
              " 32]"
            ]
          },
          "metadata": {
            "tags": []
          },
          "execution_count": 3
        }
      ]
    },
    {
      "cell_type": "code",
      "metadata": {
        "id": "MzWZ6_K5CxCQ",
        "colab_type": "code",
        "colab": {
          "base_uri": "https://localhost:8080/",
          "height": 34
        },
        "outputId": "25a44869-229a-4b77-883d-4c6252ef594c"
      },
      "source": [
        "train_labels[0]"
      ],
      "execution_count": 6,
      "outputs": [
        {
          "output_type": "execute_result",
          "data": {
            "text/plain": [
              "1"
            ]
          },
          "metadata": {
            "tags": []
          },
          "execution_count": 6
        }
      ]
    },
    {
      "cell_type": "markdown",
      "metadata": {
        "id": "EfCANKkECxCd",
        "colab_type": "text"
      },
      "source": [
        "Since we restricted ourselves to the top 10,000 most frequent words, no word index will exceed 10,000:"
      ]
    },
    {
      "cell_type": "code",
      "metadata": {
        "id": "6PBF-EbjCxCf",
        "colab_type": "code",
        "colab": {
          "base_uri": "https://localhost:8080/",
          "height": 34
        },
        "outputId": "45ff94ca-d762-468f-9bc8-3f062c4ef175"
      },
      "source": [
        "max([max(sequence) for sequence in train_data])"
      ],
      "execution_count": 8,
      "outputs": [
        {
          "output_type": "execute_result",
          "data": {
            "text/plain": [
              "9999"
            ]
          },
          "metadata": {
            "tags": []
          },
          "execution_count": 8
        }
      ]
    },
    {
      "cell_type": "markdown",
      "metadata": {
        "id": "xECG48AmCxCt",
        "colab_type": "text"
      },
      "source": [
        "For kicks, here's how you can quickly decode one of these reviews back to English words:"
      ]
    },
    {
      "cell_type": "code",
      "metadata": {
        "id": "bEYt91sWCxCw",
        "colab_type": "code",
        "colab": {
          "base_uri": "https://localhost:8080/",
          "height": 52
        },
        "outputId": "adc89198-10f2-45e2-c014-04cff1cfa3f9"
      },
      "source": [
        "# word_index is a dictionary mapping words to an integer index\n",
        "word_index = imdb.get_word_index()\n",
        "\n",
        "# We reverse it, mapping integer indices to words\n",
        "reverse_word_index = dict([(value, key) for (key, value) in word_index.items()])\n",
        "\n"
      ],
      "execution_count": 4,
      "outputs": [
        {
          "output_type": "stream",
          "text": [
            "Downloading data from https://storage.googleapis.com/tensorflow/tf-keras-datasets/imdb_word_index.json\n",
            "1646592/1641221 [==============================] - 0s 0us/step\n"
          ],
          "name": "stdout"
        }
      ]
    },
    {
      "cell_type": "markdown",
      "metadata": {
        "id": "1fH4F9wvOEqo",
        "colab_type": "text"
      },
      "source": [
        "Check the dictionary (key: word, value: frequency rank), word_index. High frequency words are ranked with lower index, such as \"the\", \"a\" and \"one\"; Low frequency words are ranked with higher index, such as \"hydrogen\"."
      ]
    },
    {
      "cell_type": "code",
      "metadata": {
        "id": "jGHE14XDNg1z",
        "colab_type": "code",
        "colab": {
          "base_uri": "https://localhost:8080/",
          "height": 121
        },
        "outputId": "e6ca2264-19d0-4f7f-e462-6dac6ec540b0"
      },
      "source": [
        "print(word_index['the'])\n",
        "print(word_index['a'])\n",
        "print(word_index['good'])\n",
        "print(word_index['one'])\n",
        "print(word_index['hydrogen'])\n",
        "print(word_index['steroid'])"
      ],
      "execution_count": 18,
      "outputs": [
        {
          "output_type": "stream",
          "text": [
            "1\n",
            "3\n",
            "49\n",
            "28\n",
            "23789\n",
            "33688\n"
          ],
          "name": "stdout"
        }
      ]
    },
    {
      "cell_type": "markdown",
      "metadata": {
        "id": "mepW2F9MQLaK",
        "colab_type": "text"
      },
      "source": [
        "Check the reversed dictionary (key: frequency rank, value: word), reverse_word_index."
      ]
    },
    {
      "cell_type": "code",
      "metadata": {
        "id": "XYojpUM5P4E6",
        "colab_type": "code",
        "colab": {
          "base_uri": "https://localhost:8080/",
          "height": 104
        },
        "outputId": "0a5365ed-9bec-41be-b21e-8902e765134f"
      },
      "source": [
        "print(reverse_word_index[1])\n",
        "print(reverse_word_index[2])\n",
        "print(reverse_word_index[3])\n",
        "print(reverse_word_index[4])\n",
        "print(reverse_word_index[5])"
      ],
      "execution_count": 26,
      "outputs": [
        {
          "output_type": "stream",
          "text": [
            "the\n",
            "and\n",
            "a\n",
            "of\n",
            "to\n"
          ],
          "name": "stdout"
        }
      ]
    },
    {
      "cell_type": "markdown",
      "metadata": {
        "id": "9m36R72fRWiZ",
        "colab_type": "text"
      },
      "source": [
        "**Note**: In entries of the review, word indices of 0, 1, 2 represent \"padding\", \"start of sequence\" and \"unknown\". E.g. the word of \"the\" ranks 1 in word_index dictionary, but in review, its index is 4 = 1 + 3."
      ]
    },
    {
      "cell_type": "code",
      "metadata": {
        "id": "fYnsVzBPCxC6",
        "colab_type": "code",
        "colab": {
          "base_uri": "https://localhost:8080/",
          "height": 158
        },
        "outputId": "eec77664-f1f5-41d3-b950-9e2adb6ded3a"
      },
      "source": [
        "# We decode the review; note that our indices were offset by 3\n",
        "# because in review, indices of 0, 1 and 2 are reserved for \"padding\", \"start of sequence\", and \"unknown\".\n",
        "decoded_review = ' '.join([reverse_word_index.get(i - 3, '?') for i in train_data[0]])\n",
        "\n",
        "decoded_review"
      ],
      "execution_count": 5,
      "outputs": [
        {
          "output_type": "execute_result",
          "data": {
            "application/vnd.google.colaboratory.intrinsic+json": {
              "type": "string"
            },
            "text/plain": [
              "\"? this film was just brilliant casting location scenery story direction everyone's really suited the part they played and you could just imagine being there robert ? is an amazing actor and now the same being director ? father came from the same scottish island as myself so i loved the fact there was a real connection with this film the witty remarks throughout the film were great it was just brilliant so much that i bought the film as soon as it was released for ? and would recommend it to everyone to watch and the fly fishing was amazing really cried at the end it was so sad and you know what they say if you cry at a film it must have been good and this definitely was also ? to the two little boy's that played the ? of norman and paul they were just brilliant children are often left out of the ? list i think because the stars that play them all grown up are such a big profile for the whole film but these children are amazing and should be praised for what they have done don't you think the whole story was so lovely because it was true and was someone's life after all that was shared with us all\""
            ]
          },
          "metadata": {
            "tags": []
          },
          "execution_count": 5
        }
      ]
    },
    {
      "cell_type": "markdown",
      "metadata": {
        "id": "O5VdjTepCxDE",
        "colab_type": "text"
      },
      "source": [
        "## Preparing the data\n",
        "\n",
        "\n",
        "We cannot feed lists of integers into a neural network. We have to **turn our lists into tensors**. There are **two ways** we could do that:\n",
        "\n",
        "* We could **pad our lists** so that they all have the **same length**, and turn them into an **integer tensor of shape** `(samples, word_indices)`, \n",
        "then use as first layer in our network a layer capable of handling such integer tensors (the `Embedding` layer, which we will cover in \n",
        "detail later in the book).\n",
        "* We could **one-hot-encode** our lists to turn them into **vectors of 0s and 1s.** Concretely, this would mean for instance turning the sequence \n",
        "`[3, 5]` into a 10,000-dimensional vector that would be all-zeros except for indices 3 and 5, which would be ones. Then we could use as \n",
        "first layer in our network a `Dense` layer, capable of handling floating point vector data.\n",
        "\n",
        "We will go with the **latter solution**. Let's vectorize our data, which we will do manually for maximum clarity:"
      ]
    },
    {
      "cell_type": "code",
      "metadata": {
        "id": "fm7tR7XaCxDG",
        "colab_type": "code",
        "colab": {}
      },
      "source": [
        "import numpy as np\n",
        "\n",
        "def vectorize_sequences(sequences, dimension=10000):\n",
        "    # Create an all-zero matrix of shape (len(sequences), dimension)\n",
        "    results = np.zeros((len(sequences), dimension))\n",
        "    for i, sequence in enumerate(sequences):\n",
        "        # set specific indices of results[i] to 1s\n",
        "        # ? What if same word occurs multiple times?\n",
        "        results[i, sequence] = 1.  \n",
        "    return results"
      ],
      "execution_count": 6,
      "outputs": []
    },
    {
      "cell_type": "markdown",
      "metadata": {
        "id": "bJl6wNq5bDiF",
        "colab_type": "text"
      },
      "source": [
        "**Here is a question**: What if same word occurs multiple times? By this way, there is no difference for a review with \"Great\" 10 times and once, which should be considered."
      ]
    },
    {
      "cell_type": "code",
      "metadata": {
        "id": "7CAobTLgaRNO",
        "colab_type": "code",
        "colab": {}
      },
      "source": [
        "# Our vectorized training data\n",
        "x_train = vectorize_sequences(train_data)\n",
        "# Our vectorized test data\n",
        "x_test = vectorize_sequences(test_data)"
      ],
      "execution_count": 7,
      "outputs": []
    },
    {
      "cell_type": "markdown",
      "metadata": {
        "id": "NQ9MHQmvCxDR",
        "colab_type": "text"
      },
      "source": [
        "Here's what our samples look like now:"
      ]
    },
    {
      "cell_type": "code",
      "metadata": {
        "id": "K0FXXoLHCxDT",
        "colab_type": "code",
        "colab": {
          "base_uri": "https://localhost:8080/",
          "height": 34
        },
        "outputId": "d50bab17-ddbc-444e-ea26-cd6ea358270e"
      },
      "source": [
        "x_train[0]"
      ],
      "execution_count": 29,
      "outputs": [
        {
          "output_type": "execute_result",
          "data": {
            "text/plain": [
              "array([0., 1., 1., ..., 0., 0., 0.])"
            ]
          },
          "metadata": {
            "tags": []
          },
          "execution_count": 29
        }
      ]
    },
    {
      "cell_type": "code",
      "metadata": {
        "id": "cpQdlcFLajHg",
        "colab_type": "code",
        "colab": {
          "base_uri": "https://localhost:8080/",
          "height": 34
        },
        "outputId": "52ac4e3c-8668-4263-f5df-7e629b7c69de"
      },
      "source": [
        "x_test[0]"
      ],
      "execution_count": 31,
      "outputs": [
        {
          "output_type": "execute_result",
          "data": {
            "text/plain": [
              "array([0., 1., 1., ..., 0., 0., 0.])"
            ]
          },
          "metadata": {
            "tags": []
          },
          "execution_count": 31
        }
      ]
    },
    {
      "cell_type": "markdown",
      "metadata": {
        "id": "-sCfODEXCxDd",
        "colab_type": "text"
      },
      "source": [
        "We should also **vectorize our labels**, which is straightforward:"
      ]
    },
    {
      "cell_type": "code",
      "metadata": {
        "id": "bAfWwyF0CxDf",
        "colab_type": "code",
        "colab": {}
      },
      "source": [
        "# Our vectorized labels\n",
        "y_train = np.asarray(train_labels).astype('float32')\n",
        "y_test = np.asarray(test_labels).astype('float32')"
      ],
      "execution_count": 8,
      "outputs": []
    },
    {
      "cell_type": "markdown",
      "metadata": {
        "id": "FFS2gfjBCxDq",
        "colab_type": "text"
      },
      "source": [
        "Now our data is ready to be fed into a neural network."
      ]
    },
    {
      "cell_type": "markdown",
      "metadata": {
        "id": "7Acf5O0zCxDr",
        "colab_type": "text"
      },
      "source": [
        "## Building our network\n",
        "\n",
        "\n",
        "Our input data is simply vectors, and our labels are scalars (1s and 0s): this is the easiest setup you will ever encounter. A type of \n",
        "network that performs well on such a problem would be a simple stack of fully-connected (`Dense`) layers with `relu` activations: `Dense(16, \n",
        "activation='relu')`\n",
        "\n",
        "The **argument** being passed to each `Dense` layer **(16)** is the number of **\"hidden units\"** of the layer. What's a **hidden unit**? It's **a dimension \n",
        "in the representation space of the layer**. You may remember from the previous chapter that each such `Dense` layer with a `relu` activation implements \n",
        "the following chain of tensor operations:\n",
        "\n",
        "`output = relu(dot(W, input) + b)`\n",
        "\n",
        "Having 16 hidden units means that the weight matrix `W` will have shape `(input_dimension, 16)`, i.e. the dot product with `W` will project the \n",
        "input data onto a 16-dimensional representation space (and then we would add the bias vector `b` and apply the `relu` operation). You can \n",
        "intuitively understand the dimensionality of your representation space as \"how much freedom you are allowing the network to have when \n",
        "learning internal representations\". Having more hidden units (a higher-dimensional representation space) allows your network to learn more \n",
        "complex representations, but it makes your network more computationally expensive and may lead to learning unwanted patterns (patterns that \n",
        "will improve performance on the training data but not on the test data).\n",
        "\n",
        "There are **two key architecture decisions** to be made about such stack of dense layers:\n",
        "\n",
        "* How many layers to use.\n",
        "* How many \"hidden units\" to chose for each layer.\n",
        "\n",
        "In the next chapter, you will learn formal principles to guide you in making these choices. \n",
        "For the time being, you will have to trust us with the following architecture choice: \n",
        "two intermediate layers with 16 hidden units each, \n",
        "and a third layer which will output the scalar prediction regarding the sentiment of the current review. \n",
        "The **intermediate layers** will use `relu` as their **\"activation function\"**, \n",
        "and the **final layer** will use a **sigmoid activation** so as to **output a probability** \n",
        "(a score between 0 and 1, indicating how likely the sample is to have the target \"1\", i.e. how likely the review is to be positive). \n",
        "A `relu` (rectified linear unit) is a function meant to zero-out negative values, \n",
        "while a sigmoid \"squashes\" arbitrary values into the `[0, 1]` interval, thus outputting something that can be interpreted as a probability."
      ]
    },
    {
      "cell_type": "markdown",
      "metadata": {
        "id": "8gPNLJUzCxDu",
        "colab_type": "text"
      },
      "source": [
        "Here's what our network looks like:\n",
        "\n",
        "![3-layer network](https://s3.amazonaws.com/book.keras.io/img/ch3/3_layer_network.png)"
      ]
    },
    {
      "cell_type": "markdown",
      "metadata": {
        "id": "Ok8wpIc4CxD0",
        "colab_type": "text"
      },
      "source": [
        "And here's the Keras implementation, very similar to the MNIST example you saw previously:"
      ]
    },
    {
      "cell_type": "code",
      "metadata": {
        "id": "_vR85NdQCxD6",
        "colab_type": "code",
        "colab": {}
      },
      "source": [
        "from keras import models\n",
        "from keras import layers\n",
        "\n",
        "model = models.Sequential()\n",
        "model.add(layers.Dense(16, activation='relu', input_shape=(10000,)))\n",
        "model.add(layers.Dense(16, activation='relu'))\n",
        "model.add(layers.Dense(1, activation='sigmoid'))"
      ],
      "execution_count": 9,
      "outputs": []
    },
    {
      "cell_type": "markdown",
      "metadata": {
        "id": "a1ApnAqLCxEF",
        "colab_type": "text"
      },
      "source": [
        "\n",
        "Lastly, we need to pick a loss function and an optimizer. Since we are facing a binary classification problem and the output of our network \n",
        "is a probability (we end our network with a single-unit layer with a sigmoid activation), is it best to use the `binary_crossentropy` loss. \n",
        "It isn't the only viable choice: you could use, for instance, `mean_squared_error`. But **crossentropy** is usually **the best choice** when you \n",
        "are dealing with models that **output probabilities**. Crossentropy is a quantity from the field of Information Theory, that measures the \"distance\" \n",
        "between probability distributions, or in our case, between the ground-truth distribution and our predictions.\n",
        "\n",
        "Here's the step where we configure our model with the `rmsprop` optimizer and the `binary_crossentropy` loss function. Note that we will \n",
        "also **monitor accuracy** during training."
      ]
    },
    {
      "cell_type": "code",
      "metadata": {
        "id": "2tNzA1nqCxEH",
        "colab_type": "code",
        "colab": {}
      },
      "source": [
        "model.compile(optimizer='rmsprop',\n",
        "              loss='binary_crossentropy',\n",
        "              metrics=['accuracy'])"
      ],
      "execution_count": 17,
      "outputs": []
    },
    {
      "cell_type": "markdown",
      "metadata": {
        "id": "Zyj3A42JCxEX",
        "colab_type": "text"
      },
      "source": [
        "We are passing our optimizer, loss function and metrics as strings, which is possible because `rmsprop`, `binary_crossentropy` and \n",
        "`accuracy` are packaged as part of Keras. Sometimes you may want to configure the parameters of your optimizer, or pass a custom loss \n",
        "function or metric function. This former can be done by passing an **optimizer class instance** as the `optimizer` argument:"
      ]
    },
    {
      "cell_type": "code",
      "metadata": {
        "id": "V5T-kUNnCxEZ",
        "colab_type": "code",
        "colab": {}
      },
      "source": [
        "from keras import optimizers\n",
        "\n",
        "model.compile(optimizer=optimizers.RMSprop(lr=0.001),\n",
        "              loss='binary_crossentropy',\n",
        "              metrics=['accuracy'])"
      ],
      "execution_count": 11,
      "outputs": []
    },
    {
      "cell_type": "markdown",
      "metadata": {
        "id": "KjAg9YJzCxEk",
        "colab_type": "text"
      },
      "source": [
        "The latter can be done by passing **function objects** as the `loss` or `metrics` arguments:"
      ]
    },
    {
      "cell_type": "code",
      "metadata": {
        "id": "UNt2p87KCxEl",
        "colab_type": "code",
        "colab": {}
      },
      "source": [
        "from keras import losses\n",
        "from keras import metrics\n",
        "\n",
        "model.compile(optimizer=optimizers.RMSprop(lr=0.001),\n",
        "              loss=losses.binary_crossentropy,\n",
        "              metrics=[metrics.binary_accuracy])"
      ],
      "execution_count": 12,
      "outputs": []
    },
    {
      "cell_type": "markdown",
      "metadata": {
        "id": "cI2JXi_8CxEv",
        "colab_type": "text"
      },
      "source": [
        "## Validating our approach\n",
        "\n",
        "In order to monitor during training the accuracy of the model on data that it has never seen before, we will create a \"validation set\" by \n",
        "setting apart 10,000 samples from the original training data:"
      ]
    },
    {
      "cell_type": "code",
      "metadata": {
        "id": "BaMqTOw0CxEy",
        "colab_type": "code",
        "colab": {}
      },
      "source": [
        "x_val = x_train[:10000]\n",
        "partial_x_train = x_train[10000:]\n",
        "\n",
        "y_val = y_train[:10000]\n",
        "partial_y_train = y_train[10000:]"
      ],
      "execution_count": 13,
      "outputs": []
    },
    {
      "cell_type": "markdown",
      "metadata": {
        "collapsed": true,
        "id": "5_EHUnFeCxE7",
        "colab_type": "text"
      },
      "source": [
        "We will now train our model for 20 **epochs** (20 **iterations over all samples** in the `x_train` and `y_train` tensors), in mini-batches of 512 \n",
        "samples. At this same time we will monitor loss and accuracy on the 10,000 samples that we set apart. This is done by passing the \n",
        "validation data as the `validation_data` argument:"
      ]
    },
    {
      "cell_type": "code",
      "metadata": {
        "id": "SKqL6drtCxE8",
        "colab_type": "code",
        "colab": {
          "base_uri": "https://localhost:8080/",
          "height": 712
        },
        "outputId": "184a3932-14ea-48f2-a7c9-ab499022f3f7"
      },
      "source": [
        "history = model.fit(partial_x_train,\n",
        "                    partial_y_train,\n",
        "                    epochs=20,\n",
        "                    batch_size=512,\n",
        "                    validation_data=(x_val, y_val))"
      ],
      "execution_count": 18,
      "outputs": [
        {
          "output_type": "stream",
          "text": [
            "Epoch 1/20\n",
            "30/30 [==============================] - 1s 47ms/step - loss: 0.0085 - accuracy: 0.9983 - val_loss: 0.7323 - val_accuracy: 0.8678\n",
            "Epoch 2/20\n",
            "30/30 [==============================] - 1s 42ms/step - loss: 0.0013 - accuracy: 0.9999 - val_loss: 0.7663 - val_accuracy: 0.8664\n",
            "Epoch 3/20\n",
            "30/30 [==============================] - 1s 42ms/step - loss: 0.0029 - accuracy: 0.9993 - val_loss: 0.7905 - val_accuracy: 0.8698\n",
            "Epoch 4/20\n",
            "30/30 [==============================] - 1s 34ms/step - loss: 7.8033e-04 - accuracy: 0.9999 - val_loss: 0.8262 - val_accuracy: 0.8666\n",
            "Epoch 5/20\n",
            "30/30 [==============================] - 1s 31ms/step - loss: 6.2384e-04 - accuracy: 0.9999 - val_loss: 0.8699 - val_accuracy: 0.8670\n",
            "Epoch 6/20\n",
            "30/30 [==============================] - 1s 32ms/step - loss: 0.0024 - accuracy: 0.9995 - val_loss: 0.9008 - val_accuracy: 0.8638\n",
            "Epoch 7/20\n",
            "30/30 [==============================] - 1s 32ms/step - loss: 3.3013e-04 - accuracy: 0.9999 - val_loss: 0.9215 - val_accuracy: 0.8647\n",
            "Epoch 8/20\n",
            "30/30 [==============================] - 1s 32ms/step - loss: 2.6595e-04 - accuracy: 1.0000 - val_loss: 0.9635 - val_accuracy: 0.8629\n",
            "Epoch 9/20\n",
            "30/30 [==============================] - 1s 40ms/step - loss: 0.0024 - accuracy: 0.9994 - val_loss: 1.0027 - val_accuracy: 0.8622\n",
            "Epoch 10/20\n",
            "30/30 [==============================] - 1s 40ms/step - loss: 1.4744e-04 - accuracy: 1.0000 - val_loss: 1.0196 - val_accuracy: 0.8636\n",
            "Epoch 11/20\n",
            "30/30 [==============================] - 1s 36ms/step - loss: 1.2314e-04 - accuracy: 1.0000 - val_loss: 1.0432 - val_accuracy: 0.8639\n",
            "Epoch 12/20\n",
            "30/30 [==============================] - 1s 42ms/step - loss: 9.3388e-05 - accuracy: 1.0000 - val_loss: 1.1341 - val_accuracy: 0.8589\n",
            "Epoch 13/20\n",
            "30/30 [==============================] - 1s 43ms/step - loss: 6.5463e-04 - accuracy: 0.9999 - val_loss: 1.1105 - val_accuracy: 0.8633\n",
            "Epoch 14/20\n",
            "30/30 [==============================] - 1s 42ms/step - loss: 5.7665e-05 - accuracy: 1.0000 - val_loss: 1.1255 - val_accuracy: 0.8635\n",
            "Epoch 15/20\n",
            "30/30 [==============================] - 1s 41ms/step - loss: 4.4291e-05 - accuracy: 1.0000 - val_loss: 1.1998 - val_accuracy: 0.8612\n",
            "Epoch 16/20\n",
            "30/30 [==============================] - 1s 37ms/step - loss: 0.0028 - accuracy: 0.9991 - val_loss: 1.2734 - val_accuracy: 0.8574\n",
            "Epoch 17/20\n",
            "30/30 [==============================] - 1s 38ms/step - loss: 3.2772e-05 - accuracy: 1.0000 - val_loss: 1.2368 - val_accuracy: 0.8614\n",
            "Epoch 18/20\n",
            "30/30 [==============================] - 1s 43ms/step - loss: 2.3040e-05 - accuracy: 1.0000 - val_loss: 1.2477 - val_accuracy: 0.8624\n",
            "Epoch 19/20\n",
            "30/30 [==============================] - 1s 34ms/step - loss: 1.8506e-05 - accuracy: 1.0000 - val_loss: 1.2606 - val_accuracy: 0.8616\n",
            "Epoch 20/20\n",
            "30/30 [==============================] - 1s 41ms/step - loss: 1.4492e-05 - accuracy: 1.0000 - val_loss: 1.2930 - val_accuracy: 0.8619\n"
          ],
          "name": "stdout"
        }
      ]
    },
    {
      "cell_type": "markdown",
      "metadata": {
        "id": "22hJoyRECxFD",
        "colab_type": "text"
      },
      "source": [
        "On CPU, this will take less than two seconds per epoch -- training is over in 20 seconds. At the end of every epoch, there is a slight pause \n",
        "as the model computes its loss and accuracy on the 10,000 samples of the validation data.\n",
        "\n",
        "Note that the call to `model.fit()` returns **a** `History` **object**. This object has a member `history`, which is a dictionary containing data \n",
        "about everything that happened during training. Let's take a look at it:"
      ]
    },
    {
      "cell_type": "code",
      "metadata": {
        "id": "yanyiyAtCxFJ",
        "colab_type": "code",
        "colab": {
          "base_uri": "https://localhost:8080/",
          "height": 89
        },
        "outputId": "70b1e849-321a-4961-c497-c490fc848e05"
      },
      "source": [
        "print(history)\n",
        "history_dict = history.history\n",
        "print(history_dict)\n",
        "history_dict.keys()"
      ],
      "execution_count": 19,
      "outputs": [
        {
          "output_type": "stream",
          "text": [
            "<tensorflow.python.keras.callbacks.History object at 0x7fd8ddaf5668>\n",
            "{'loss': [0.008529995568096638, 0.001339266891591251, 0.0029113399796187878, 0.0007803315529599786, 0.0006238416535779834, 0.002407768741250038, 0.00033013380016200244, 0.00026595380040816963, 0.0023506071884185076, 0.00014743937936145812, 0.00012314040213823318, 9.338754171039909e-05, 0.0006546349031850696, 5.766466347267851e-05, 4.4291253288974985e-05, 0.0027525662444531918, 3.2771931728348136e-05, 2.3040081941871904e-05, 1.850592889240943e-05, 1.4492377886199392e-05], 'accuracy': [0.9982666373252869, 0.9999333620071411, 0.9993333220481873, 0.9999333620071411, 0.9999333620071411, 0.9994666576385498, 0.9999333620071411, 1.0, 0.9994000196456909, 1.0, 1.0, 1.0, 0.9998666644096375, 1.0, 1.0, 0.9991333484649658, 1.0, 1.0, 1.0, 1.0], 'val_loss': [0.7323279976844788, 0.7663257718086243, 0.7905085682868958, 0.826162576675415, 0.869895875453949, 0.9007666110992432, 0.9215385913848877, 0.9635226726531982, 1.0026967525482178, 1.0196454524993896, 1.0431638956069946, 1.1341389417648315, 1.1104587316513062, 1.125525951385498, 1.1997648477554321, 1.2733734846115112, 1.2368398904800415, 1.247698187828064, 1.2606381177902222, 1.2929949760437012], 'val_accuracy': [0.8677999973297119, 0.8664000034332275, 0.8697999715805054, 0.866599977016449, 0.8669999837875366, 0.8637999892234802, 0.8647000193595886, 0.8629000186920166, 0.8622000217437744, 0.8636000156402588, 0.8639000058174133, 0.8589000105857849, 0.8633000254631042, 0.8634999990463257, 0.8611999750137329, 0.8574000000953674, 0.8614000082015991, 0.8623999953269958, 0.8615999817848206, 0.8618999719619751]}\n"
          ],
          "name": "stdout"
        },
        {
          "output_type": "execute_result",
          "data": {
            "text/plain": [
              "dict_keys(['loss', 'accuracy', 'val_loss', 'val_accuracy'])"
            ]
          },
          "metadata": {
            "tags": []
          },
          "execution_count": 19
        }
      ]
    },
    {
      "cell_type": "markdown",
      "metadata": {
        "id": "8rJE3LkQCxFQ",
        "colab_type": "text"
      },
      "source": [
        "It contains **4 entries: one per metric** that was being monitored, during training and during validation. Let's use Matplotlib to plot the \n",
        "training and validation loss side by side, as well as the training and validation accuracy:"
      ]
    },
    {
      "cell_type": "code",
      "metadata": {
        "id": "Q4aoFGFECxFT",
        "colab_type": "code",
        "colab": {
          "base_uri": "https://localhost:8080/",
          "height": 295
        },
        "outputId": "977816f6-5a08-4630-8ca0-78c76dc738ee"
      },
      "source": [
        "import matplotlib.pyplot as plt\n",
        "\n",
        "acc = history.history['accuracy']\n",
        "val_acc = history.history['val_accuracy']\n",
        "loss = history.history['loss']\n",
        "val_loss = history.history['val_loss']\n",
        "\n",
        "epochs = range(1, len(acc) + 1)\n",
        "\n",
        "# \"bo\" is for \"blue dot\"\n",
        "plt.plot(epochs, loss, 'bo', label='Training loss')\n",
        "# b is for \"solid blue line\"\n",
        "plt.plot(epochs, val_loss, 'b', label='Validation loss')\n",
        "plt.title('Training and validation loss')\n",
        "plt.xlabel('Epochs')\n",
        "plt.ylabel('Loss')\n",
        "plt.legend()\n",
        "\n",
        "plt.show()"
      ],
      "execution_count": 20,
      "outputs": [
        {
          "output_type": "display_data",
          "data": {
            "image/png": "[encoded data removed]",
            "text/plain": [
              "<Figure size 432x288 with 1 Axes>"
            ]
          },
          "metadata": {
            "tags": [],
            "needs_background": "light"
          }
        }
      ]
    },
    {
      "cell_type": "code",
      "metadata": {
        "id": "ZWV0nYerCxFd",
        "colab_type": "code",
        "colab": {
          "base_uri": "https://localhost:8080/",
          "height": 295
        },
        "outputId": "0410bde7-13b4-46d9-b99d-ecf4edcab387"
      },
      "source": [
        "plt.clf()   # clear figure\n",
        "acc_values = history_dict['accuracy']\n",
        "val_acc_values = history_dict['val_accuracy']\n",
        "\n",
        "plt.plot(epochs, acc, 'bo', label='Training acc')\n",
        "plt.plot(epochs, val_acc, 'b', label='Validation acc')\n",
        "plt.title('Training and validation accuracy')\n",
        "plt.xlabel('Epochs')\n",
        "plt.ylabel('Loss')\n",
        "plt.legend()\n",
        "\n",
        "plt.show()"
      ],
      "execution_count": 21,
      "outputs": [
        {
          "output_type": "display_data",
          "data": {
            "image/png": "[encoded data removed]",
            "text/plain": [
              "<Figure size 432x288 with 1 Axes>"
            ]
          },
          "metadata": {
            "tags": [],
            "needs_background": "light"
          }
        }
      ]
    },
    {
      "cell_type": "markdown",
      "metadata": {
        "id": "MvuzU3cmCxFl",
        "colab_type": "text"
      },
      "source": [
        "\n",
        "The dots are the training loss and accuracy, while the solid lines are the validation loss and accuracy. Note that your own results may vary \n",
        "slightly due to a different random initialization of your network.\n",
        "\n",
        "As you can see, the training loss decreases with every epoch and the training accuracy increases with every epoch. That's what you would \n",
        "expect when running gradient descent optimization -- the quantity you are trying to minimize should get lower with every iteration. **But that \n",
        "isn't the case for the validation loss and accuracy**: they seem to peak at the fourth epoch. This is an example of what we were warning \n",
        "against earlier: a model that performs better on the training data isn't necessarily a model that will do better on data it has never seen \n",
        "before. In precise terms, what you are seeing is **\"overfitting\"**: after the second epoch, we are over-optimizing on the training data, and we \n",
        "ended up learning representations that are specific to the training data and do not generalize to data outside of the training set.\n",
        "\n",
        "In this case, to prevent overfitting, we could **simply stop training after three epochs**. In general, there is a range of techniques you can \n",
        "leverage to mitigate overfitting, which we will cover in the next chapter.\n",
        "\n",
        "Let's train a new network from scratch for four epochs, then evaluate it on our test data:"
      ]
    },
    {
      "cell_type": "code",
      "metadata": {
        "id": "XrXihhjICxFn",
        "colab_type": "code",
        "colab": {
          "base_uri": "https://localhost:8080/",
          "height": 173
        },
        "outputId": "75a58cf7-3d10-4e84-99ef-d6db23446d5f"
      },
      "source": [
        "model = models.Sequential()\n",
        "model.add(layers.Dense(16, activation='relu', input_shape=(10000,)))\n",
        "model.add(layers.Dense(16, activation='relu'))\n",
        "model.add(layers.Dense(1, activation='sigmoid'))\n",
        "\n",
        "model.compile(optimizer='rmsprop',\n",
        "              loss='binary_crossentropy',\n",
        "              metrics=['accuracy'])\n",
        "\n",
        "model.fit(x_train, y_train, epochs=4, batch_size=512)\n",
        "results = model.evaluate(x_test, y_test)"
      ],
      "execution_count": 22,
      "outputs": [
        {
          "output_type": "stream",
          "text": [
            "Epoch 1/4\n",
            "49/49 [==============================] - 1s 27ms/step - loss: 0.4869 - accuracy: 0.8107\n",
            "Epoch 2/4\n",
            "49/49 [==============================] - 1s 28ms/step - loss: 0.2796 - accuracy: 0.9052\n",
            "Epoch 3/4\n",
            "49/49 [==============================] - 2s 31ms/step - loss: 0.2089 - accuracy: 0.9288\n",
            "Epoch 4/4\n",
            "49/49 [==============================] - 1s 29ms/step - loss: 0.1722 - accuracy: 0.9395\n",
            "782/782 [==============================] - 1s 2ms/step - loss: 0.2870 - accuracy: 0.8852\n"
          ],
          "name": "stdout"
        }
      ]
    },
    {
      "cell_type": "code",
      "metadata": {
        "id": "SMoQQqjgCxFw",
        "colab_type": "code",
        "colab": {
          "base_uri": "https://localhost:8080/",
          "height": 34
        },
        "outputId": "56b14572-a977-4f5b-8863-004d6a8eeb7c"
      },
      "source": [
        "results"
      ],
      "execution_count": 23,
      "outputs": [
        {
          "output_type": "execute_result",
          "data": {
            "text/plain": [
              "[0.2869933545589447, 0.8852400183677673]"
            ]
          },
          "metadata": {
            "tags": []
          },
          "execution_count": 23
        }
      ]
    },
    {
      "cell_type": "markdown",
      "metadata": {
        "id": "5zaVQGhLCxF7",
        "colab_type": "text"
      },
      "source": [
        "Our fairly naive approach achieves an accuracy of 88%. With state-of-the-art approaches, one should be able to get close to 95%."
      ]
    },
    {
      "cell_type": "markdown",
      "metadata": {
        "id": "BU3K2NPcCxGD",
        "colab_type": "text"
      },
      "source": [
        "## Using a trained network to generate predictions on new data\n",
        "\n",
        "After having trained a network, you will want to use it in a practical setting. You can generate the likelihood of reviews being positive \n",
        "by using the `predict` method:"
      ]
    },
    {
      "cell_type": "code",
      "metadata": {
        "id": "jf_dsf1oCxGE",
        "colab_type": "code",
        "colab": {
          "base_uri": "https://localhost:8080/",
          "height": 139
        },
        "outputId": "1c9fd0ea-193c-46bc-d1f8-3a4b34eee641"
      },
      "source": [
        "predictResult = model.predict(x_test)\n",
        "predictResult\n"
      ],
      "execution_count": 24,
      "outputs": [
        {
          "output_type": "execute_result",
          "data": {
            "text/plain": [
              "array([[0.22920063],\n",
              "       [0.9982896 ],\n",
              "       [0.8495811 ],\n",
              "       ...,\n",
              "       [0.09696493],\n",
              "       [0.06788823],\n",
              "       [0.5164267 ]], dtype=float32)"
            ]
          },
          "metadata": {
            "tags": []
          },
          "execution_count": 24
        }
      ]
    },
    {
      "cell_type": "code",
      "metadata": {
        "id": "KP_rfVonwS8m",
        "colab_type": "code",
        "colab": {
          "base_uri": "https://localhost:8080/",
          "height": 34
        },
        "outputId": "2e0ef0c8-8c72-4dde-887d-fa8beb93b85a"
      },
      "source": [
        "y_test"
      ],
      "execution_count": 25,
      "outputs": [
        {
          "output_type": "execute_result",
          "data": {
            "text/plain": [
              "array([0., 1., 1., ..., 0., 0., 0.], dtype=float32)"
            ]
          },
          "metadata": {
            "tags": []
          },
          "execution_count": 25
        }
      ]
    },
    {
      "cell_type": "markdown",
      "metadata": {
        "id": "LCVfkJi9CxGL",
        "colab_type": "text"
      },
      "source": [
        "As you can see, the network is very confident for some samples (0.99 or more, or 0.01 or less) but less confident for others (0.6, 0.4). \n"
      ]
    },
    {
      "cell_type": "code",
      "metadata": {
        "id": "fHY2jHGWvNCH",
        "colab_type": "code",
        "colab": {
          "base_uri": "https://localhost:8080/",
          "height": 34
        },
        "outputId": "2f01176e-eafb-4175-9738-fc56cfde8b6d"
      },
      "source": [
        "predictResult[0]"
      ],
      "execution_count": 26,
      "outputs": [
        {
          "output_type": "execute_result",
          "data": {
            "text/plain": [
              "array([0.22920063], dtype=float32)"
            ]
          },
          "metadata": {
            "tags": []
          },
          "execution_count": 26
        }
      ]
    },
    {
      "cell_type": "markdown",
      "metadata": {
        "id": "llVzzpOHCxGM",
        "colab_type": "text"
      },
      "source": [
        "## Further experiments\n",
        "\n",
        "\n",
        "* We were using 2 hidden layers. Try to use 1 or 3 hidden layers and see how it affects validation and test accuracy.\n",
        "* Try to use layers with more hidden units or less hidden units: 32 units, 64 units...\n",
        "* Try to use the `mse` loss function instead of `binary_crossentropy`.\n",
        "* Try to use the `tanh` activation (an activation that was popular in the early days of neural networks) instead of `relu`.\n",
        "\n",
        "These experiments will help convince you that the architecture choices we have made are all fairly reasonable, although they can still be \n",
        "improved!"
      ]
    },
    {
      "cell_type": "markdown",
      "metadata": {
        "id": "-V8N4SZZ5Ifb",
        "colab_type": "text"
      },
      "source": [
        "# Experimental Section"
      ]
    },
    {
      "cell_type": "markdown",
      "metadata": {
        "id": "QArVTKy7yFHF",
        "colab_type": "text"
      },
      "source": [
        "## One hidden layer\n"
      ]
    },
    {
      "cell_type": "code",
      "metadata": {
        "id": "XUwMlL7OyNX5",
        "colab_type": "code",
        "colab": {
          "base_uri": "https://localhost:8080/",
          "height": 364
        },
        "outputId": "dc3258e5-cf4c-4390-8e06-28e638d9086a"
      },
      "source": [
        "# One hidden layer neural network\n",
        "model1layer = models.Sequential()\n",
        "\n",
        "# model1layer.add(layers.Dense(16, activation='relu',input_shape=(10000,)))\n",
        "# model1layer.add(layers.Dense(32, activation='relu',input_shape=(10000,)))\n",
        "# model1layer.add(layers.Dense(64, activation='relu',input_shape=(10000,)))\n",
        "model1layer.add(layers.Dense(16, activation='tanh',input_shape=(10000,)))\n",
        "# model1layer.add(layers.Dense(32, activation='tanh',input_shape=(10000,)))\n",
        "# model1layer.add(layers.Dense(64, activation='tanh',input_shape=(10000,)))\n",
        "model1layer.add(layers.Dense(1, activation='sigmoid'))\n",
        "\n",
        "# model1layer.compile(optimizer='rmsprop', loss='binary_crossentropy', metrics=['accuracy'])\n",
        "model1layer.compile(optimizer='rmsprop', loss='mse', metrics=['accuracy'])\n",
        "\n",
        "history1layer = model1layer.fit(partial_x_train, \n",
        "                                partial_y_train, \n",
        "                                epochs=10, \n",
        "                                batch_size=512, \n",
        "                                validation_data=(x_val, y_val))\n",
        "\n"
      ],
      "execution_count": 62,
      "outputs": [
        {
          "output_type": "stream",
          "text": [
            "Epoch 1/10\n",
            "30/30 [==============================] - 1s 42ms/step - loss: 0.1648 - accuracy: 0.8018 - val_loss: 0.1241 - val_accuracy: 0.8700\n",
            "Epoch 2/10\n",
            "30/30 [==============================] - 1s 33ms/step - loss: 0.0985 - accuracy: 0.9007 - val_loss: 0.1002 - val_accuracy: 0.8862\n",
            "Epoch 3/10\n",
            "30/30 [==============================] - 1s 33ms/step - loss: 0.0731 - accuracy: 0.9256 - val_loss: 0.0896 - val_accuracy: 0.8906\n",
            "Epoch 4/10\n",
            "30/30 [==============================] - 1s 33ms/step - loss: 0.0581 - accuracy: 0.9434 - val_loss: 0.0844 - val_accuracy: 0.8914\n",
            "Epoch 5/10\n",
            "30/30 [==============================] - 1s 43ms/step - loss: 0.0478 - accuracy: 0.9517 - val_loss: 0.0827 - val_accuracy: 0.8902\n",
            "Epoch 6/10\n",
            "30/30 [==============================] - 1s 34ms/step - loss: 0.0408 - accuracy: 0.9604 - val_loss: 0.0835 - val_accuracy: 0.8882\n",
            "Epoch 7/10\n",
            "30/30 [==============================] - 1s 38ms/step - loss: 0.0336 - accuracy: 0.9691 - val_loss: 0.0903 - val_accuracy: 0.8751\n",
            "Epoch 8/10\n",
            "30/30 [==============================] - 1s 46ms/step - loss: 0.0289 - accuracy: 0.9751 - val_loss: 0.0844 - val_accuracy: 0.8841\n",
            "Epoch 9/10\n",
            "30/30 [==============================] - 1s 45ms/step - loss: 0.0253 - accuracy: 0.9777 - val_loss: 0.0868 - val_accuracy: 0.8819\n",
            "Epoch 10/10\n",
            "30/30 [==============================] - 1s 35ms/step - loss: 0.0214 - accuracy: 0.9818 - val_loss: 0.0875 - val_accuracy: 0.8805\n"
          ],
          "name": "stdout"
        }
      ]
    },
    {
      "cell_type": "code",
      "metadata": {
        "id": "w_4bAayxzK2l",
        "colab_type": "code",
        "colab": {
          "base_uri": "https://localhost:8080/",
          "height": 34
        },
        "outputId": "f62185b7-c4b0-4c0f-d64b-ad793ee31372"
      },
      "source": [
        "# Check the history\n",
        "history1layerData = history1layer.history\n",
        "history1layerData.keys()"
      ],
      "execution_count": 63,
      "outputs": [
        {
          "output_type": "execute_result",
          "data": {
            "text/plain": [
              "dict_keys(['loss', 'accuracy', 'val_loss', 'val_accuracy'])"
            ]
          },
          "metadata": {
            "tags": []
          },
          "execution_count": 63
        }
      ]
    },
    {
      "cell_type": "code",
      "metadata": {
        "id": "475FHR-bz-_m",
        "colab_type": "code",
        "colab": {
          "base_uri": "https://localhost:8080/",
          "height": 279
        },
        "outputId": "b8f0a82f-d83e-47ef-c6be-dc6e523897e9"
      },
      "source": [
        "import matplotlib.pyplot as plt\n",
        "\n",
        "train_loss = history1layerData['loss']\n",
        "vali_loss = history1layerData['val_loss']\n",
        "epochs = range(1, len(train_loss)+1)\n",
        "\n",
        "plt.plot(epochs, train_loss, 'ro', label='Training loss')\n",
        "plt.plot(epochs, vali_loss, 'r', label='Validation loss')\n",
        "plt.xlabel('Epochs')\n",
        "plt.ylabel('Loss')\n",
        "plt.legend()\n",
        "plt.show()\n"
      ],
      "execution_count": 64,
      "outputs": [
        {
          "output_type": "display_data",
          "data": {
            "image/png": "[encoded data removed]",
            "text/plain": [
              "<Figure size 432x288 with 1 Axes>"
            ]
          },
          "metadata": {
            "tags": [],
            "needs_background": "light"
          }
        }
      ]
    },
    {
      "cell_type": "markdown",
      "metadata": {
        "id": "dTU25gHL0-IN",
        "colab_type": "text"
      },
      "source": [
        "## Three hideen layers\n"
      ]
    },
    {
      "cell_type": "code",
      "metadata": {
        "id": "UeKlalmf07hh",
        "colab_type": "code",
        "colab": {
          "base_uri": "https://localhost:8080/",
          "height": 364
        },
        "outputId": "7ab164ba-1f82-4f33-dff6-2499f0165c3b"
      },
      "source": [
        "model3layer = models.Sequential()\n",
        "\n",
        "# model3layer.add(layers.Dense(64, activation='relu', input_shape=(10000, )))\n",
        "# model3layer.add(layers.Dense(64, activation='relu'))\n",
        "# model3layer.add(layers.Dense(64, activation='relu'))\n",
        "model3layer.add(layers.Dense(16, activation='tanh', input_shape=(10000, )))\n",
        "model3layer.add(layers.Dense(16, activation='tanh'))\n",
        "model3layer.add(layers.Dense(16, activation='tanh'))\n",
        "model3layer.add(layers.Dense(1, activation='sigmoid'))\n",
        "\n",
        "# model3layer.compile(optimizer='rmsprop', loss='binary_crossentropy', metrics=['accuracy'])\n",
        "model3layer.compile(optimizer='rmsprop', loss='mse', metrics=['accuracy'])\n",
        "\n",
        "history3layer = model3layer.fit(partial_x_train, \n",
        "                                partial_y_train, \n",
        "                                epochs=10, \n",
        "                                batch_size=512, \n",
        "                                validation_data=(x_val, y_val))\n"
      ],
      "execution_count": 71,
      "outputs": [
        {
          "output_type": "stream",
          "text": [
            "Epoch 1/10\n",
            "30/30 [==============================] - 1s 50ms/step - loss: 0.1634 - accuracy: 0.7766 - val_loss: 0.1052 - val_accuracy: 0.8763\n",
            "Epoch 2/10\n",
            "30/30 [==============================] - 1s 35ms/step - loss: 0.0771 - accuracy: 0.9087 - val_loss: 0.1215 - val_accuracy: 0.8288\n",
            "Epoch 3/10\n",
            "30/30 [==============================] - 1s 33ms/step - loss: 0.0530 - accuracy: 0.9357 - val_loss: 0.0850 - val_accuracy: 0.8838\n",
            "Epoch 4/10\n",
            "30/30 [==============================] - 1s 40ms/step - loss: 0.0386 - accuracy: 0.9521 - val_loss: 0.0867 - val_accuracy: 0.8840\n",
            "Epoch 5/10\n",
            "30/30 [==============================] - 1s 37ms/step - loss: 0.0299 - accuracy: 0.9635 - val_loss: 0.1045 - val_accuracy: 0.8665\n",
            "Epoch 6/10\n",
            "30/30 [==============================] - 1s 34ms/step - loss: 0.0252 - accuracy: 0.9701 - val_loss: 0.1042 - val_accuracy: 0.8700\n",
            "Epoch 7/10\n",
            "30/30 [==============================] - 1s 43ms/step - loss: 0.0198 - accuracy: 0.9769 - val_loss: 0.1320 - val_accuracy: 0.8431\n",
            "Epoch 8/10\n",
            "30/30 [==============================] - 1s 40ms/step - loss: 0.0179 - accuracy: 0.9796 - val_loss: 0.1040 - val_accuracy: 0.8748\n",
            "Epoch 9/10\n",
            "30/30 [==============================] - 1s 36ms/step - loss: 0.0147 - accuracy: 0.9835 - val_loss: 0.1074 - val_accuracy: 0.8709\n",
            "Epoch 10/10\n",
            "30/30 [==============================] - 1s 33ms/step - loss: 0.0145 - accuracy: 0.9833 - val_loss: 0.1100 - val_accuracy: 0.8693\n"
          ],
          "name": "stdout"
        }
      ]
    },
    {
      "cell_type": "code",
      "metadata": {
        "id": "EFaheBgT2Rba",
        "colab_type": "code",
        "colab": {
          "base_uri": "https://localhost:8080/",
          "height": 34
        },
        "outputId": "933cd369-628e-4d41-899c-1379a880859f"
      },
      "source": [
        "history3layerData = history3layer.history\n",
        "print(history3layerData.keys())"
      ],
      "execution_count": 72,
      "outputs": [
        {
          "output_type": "stream",
          "text": [
            "dict_keys(['loss', 'accuracy', 'val_loss', 'val_accuracy'])\n"
          ],
          "name": "stdout"
        }
      ]
    },
    {
      "cell_type": "code",
      "metadata": {
        "id": "o7wbRCN12cQn",
        "colab_type": "code",
        "colab": {
          "base_uri": "https://localhost:8080/",
          "height": 279
        },
        "outputId": "78099808-17c1-443b-e15e-f49e786e750a"
      },
      "source": [
        "import matplotlib.pyplot as plt\n",
        "\n",
        "train_loss = history3layerData['loss']\n",
        "vali_loss = history3layerData['val_loss']\n",
        "epochs = range(1, len(train_loss)+1)\n",
        "\n",
        "plt.plot(epochs, train_loss, 'ro', label='Training loss')\n",
        "plt.plot(epochs, vali_loss, 'r', label='Validation loss')\n",
        "plt.xlabel('Epochs')\n",
        "plt.ylabel('Loss')\n",
        "plt.legend()\n",
        "plt.show()"
      ],
      "execution_count": 73,
      "outputs": [
        {
          "output_type": "display_data",
          "data": {
            "image/png": "[encoded data removed]",
            "text/plain": [
              "<Figure size 432x288 with 1 Axes>"
            ]
          },
          "metadata": {
            "tags": [],
            "needs_background": "light"
          }
        }
      ]
    },
    {
      "cell_type": "markdown",
      "metadata": {
        "id": "_EPQ9DQlCxGN",
        "colab_type": "text"
      },
      "source": [
        "## Conclusions\n",
        "\n",
        "\n",
        "Here's what you should take away from this example:\n",
        "\n",
        "* There's usually quite a bit of preprocessing you need to do on your raw data in order to be able to feed it -- as tensors -- into a neural \n",
        "network. In the case of sequences of words, they can be encoded as binary vectors -- but there are other encoding options too.\n",
        "* Stacks of `Dense` layers with `relu` activations can solve a wide range of problems (including sentiment classification), and you will \n",
        "likely use them frequently.\n",
        "* In a binary classification problem (two output classes), your network should end with a `Dense` layer with 1 unit and a `sigmoid` activation, \n",
        "i.e. the output of your network should be a scalar between 0 and 1, encoding a probability.\n",
        "* With such a scalar sigmoid output, on a binary classification problem, the loss function you should use is `binary_crossentropy`.\n",
        "* The `rmsprop` optimizer is generally a good enough choice of optimizer, whatever your problem. That's one less thing for you to worry \n",
        "about.\n",
        "* As they get better on their training data, neural networks eventually start _overfitting_ and end up obtaining increasingly worse results on data \n",
        "never-seen-before. Make sure to always monitor performance on data that is outside of the training set.\n"
      ]
    }
  ]
}